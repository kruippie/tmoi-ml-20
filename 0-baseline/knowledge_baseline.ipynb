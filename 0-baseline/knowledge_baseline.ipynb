{
 "cells": [
  {
   "cell_type": "code",
   "execution_count": null,
   "metadata": {},
   "outputs": [],
   "source": [
    "import numpy as np\n",
    "import pandas as pd\n",
    "import matplotlib.pyplot as plt\n",
    "import seaborn as sns\n"
   ]
  },
  {
   "cell_type": "markdown",
   "metadata": {},
   "source": [
    "# Baseline Python\n",
    "This notebook is intended to make a quick scan of different skills. It will test:\n",
    "\n",
    "- knowledge about mathematical notation (function definitions, sets) and a minimum of linear algebra (matrix multiplication)\n",
    "- numpy (generating data, concatenating, dotproduct)\n",
    "- generate a pandas dataframe, basic plotting\n",
    "- creating a class\n",
    "- basic efficiency (avoiding forloops with vectorization)\n",
    "- list comprehensions\n",
    "\n",
    "Don't worry if you get stuck: this notebook is meant to identify the subjects where you will need more explanation."
   ]
  },
  {
   "cell_type": "markdown",
   "metadata": {},
   "source": [
    "## Excercise 1\n",
    "Let there be $m$ observations $x_i \\in X$ with $i=\\{1, ..., m\\}$ where every observation has $n$ features: $x_i=\\{x_{i,j}, ..., x_{i,n}\\}$ with $j=\\{1, ..., n\\}$.\n",
    "We will represent these as a matrix $X$ with dimensions $(m, n)$ such that value $x_{i,j}$ is the $i^{th}$ observation for feature $j$.\n",
    "\n",
    "Use numpy to create a matrix $X$ with $m=100, n=2$, filled with random floating point numbers. This will be our set of 100 observations with 2 features."
   ]
  },
  {
   "cell_type": "code",
   "execution_count": null,
   "metadata": {},
   "outputs": [],
   "source": []
  },
  {
   "cell_type": "markdown",
   "metadata": {},
   "source": [
    "## Excercise 2\n",
    "\n",
    "Now, implement a function $f: \\mathbb{R}^m \\to \\mathbb{R}$ such that $f(x) = wx + b$.\n",
    "Here, $w$ are weights $w={w_j, ..., w_n}$ where $n$ corresponds to the features and $b$ is an extra bias weight. We will initialize $w$ at random.\n",
    "\n",
    "E.g. if we observe a person $x_1$, as features let us measure someones length and shoe-size. Let us obtain $x_1=\\{1.84, 46\\}$.\n",
    "Now, let our randomly initialized weights $w$ be $[0.9, 0.2]$ and our $b=3$. With this, we would need to calculate: $0.9 * 1.84 + 0.2 * 46 + 3$ for that person.\n",
    "For a next person let us obtain $x_2=\\{1.65, 36\\}$, and thus we would need to calculate $0.9 * 1.65 + 0.2 * 36 + 3$.\n",
    "\n",
    "To implement this more efficient, we will redefine the function slightly:\n",
    "First, we add a dummy observation of 1 to the features: we get $x_i=\\{x_{i,j}, ..., x_{i,n}, 1\\}$\n",
    "Then, we add the bias to the weights, such that we get $w=\\{w_j, ..., w_n, b\\}$.\n",
    "With this, we can change the formula to $$f(x)= wx$$\n",
    "E.g. our previous example would be $x_1=\\{1.84, 46, 1\\}$ and $w=\\{0.9, 0.2, 3\\}$ and we would calculate $0.9 * 1.84 + 0.2 * 46 + 3 * 1$.\n",
    "\n",
    "To implement this , do the following:\n",
    "- create a columnvector $Xb$ where all entries are equal to 1, with dimensions $(m, 1)$. This will be the weight used for the bias. Do not hardcode $m$, but retrieve it from $X$.\n",
    "- concatenate the observations $X$ with $Xb$ along the columns, such that you get a matrix with dimensions $(m, n+1)$.\n",
    "- initialize a columnvector $w$ where you add the bias as one of the weights. So, it should have dimensions $(n+1, 1)$. Do not hardcode $n$, but retrieve it from $X$.\n",
    "- calculate $f(x)$ for all $m$\n",
    "\n",
    "\n",
    "store the result of your calculation, that should have shape $(m, 1)$ in a variable `yhat`, which refers to your prediction $\\hat{y}$ "
   ]
  },
  {
   "cell_type": "code",
   "execution_count": null,
   "metadata": {},
   "outputs": [],
   "source": []
  },
  {
   "cell_type": "markdown",
   "metadata": {},
   "source": [
    "## Excercise 3\n",
    "\n",
    "- concatenate $X$ and your prediction `yhat`\n",
    "- put them in a pandas dataframe, with column names 'lenght', 'shoe', 'bias' and 'yhat'.\n",
    "- make a scatterplot, with on the x-axis 'length', on the y-axis 'shoe', and use 'yhat' as a color.\n",
    "\n",
    "Make sure you have:\n",
    "- labels 'length' and 'shoe' on the x and y axis\n",
    "- a legend for the color\n",
    "- a title 'prediction'\n",
    "\n"
   ]
  },
  {
   "cell_type": "code",
   "execution_count": null,
   "metadata": {},
   "outputs": [],
   "source": []
  },
  {
   "cell_type": "markdown",
   "metadata": {},
   "source": [
    "## Excercise 4\n",
    "Create a class `linear_function` with three functions: `__init__`, `generate` and `predict`:\n",
    "\n",
    "*\\_\\_init__*\n",
    "- on initialization you pass variables $m$ and $n$, corresponding to $m$ observations with $n$ features.\n",
    "- store the original $(m,n)$ dimensions as a tuple in the object\n",
    "- you call the `generate` function\n",
    "\n",
    "*generate*\n",
    "- initialize random data using variables $n$ and $m$, add a column for the bias, \n",
    "- generate weights\n",
    "- store data and weights in the object\n",
    "\n",
    "*predict*\n",
    "- you return the result of $f(x)=wx+b$\n"
   ]
  },
  {
   "cell_type": "code",
   "execution_count": null,
   "metadata": {},
   "outputs": [],
   "source": []
  },
  {
   "cell_type": "markdown",
   "metadata": {},
   "source": [
    "## Excercise 5\n",
    "If you have implemented your formula efficiently, you should be able to scale it up."
   ]
  },
  {
   "cell_type": "code",
   "execution_count": null,
   "metadata": {},
   "outputs": [],
   "source": [
    "small = linear_function(1000, 3)\n",
    "yhat = small.predict()"
   ]
  },
  {
   "cell_type": "markdown",
   "metadata": {},
   "source": [
    "The next function should run in seconds. On my laptop, I run it in 1.7 seconds."
   ]
  },
  {
   "cell_type": "code",
   "execution_count": null,
   "metadata": {},
   "outputs": [],
   "source": [
    "big = linear_function(100000, 1000)\n",
    "yhat = big.predict()\n",
    "len(yhat)"
   ]
  },
  {
   "cell_type": "markdown",
   "metadata": {},
   "source": [
    "## Excercise 6\n",
    "Define a variable `threshold=1`.\n",
    "Create a list comprehension that runs through the yhat, and assigns a value -1 for every value smaller then the threshold, else 1."
   ]
  },
  {
   "cell_type": "code",
   "execution_count": null,
   "metadata": {},
   "outputs": [],
   "source": []
  }
 ],
 "metadata": {
  "kernelspec": {
   "display_name": "Python 3.8.3 64-bit ('tensorflow': conda)",
   "name": "python383jvsc74a57bd01ca2ed108e0829ad954ac36f354f1cc4b518ca95c97ddb3ce5ba4e3a95bf1dea"
  },
  "language_info": {
   "name": "python",
   "version": ""
  },
  "orig_nbformat": 2
 },
 "nbformat": 4,
 "nbformat_minor": 2
}