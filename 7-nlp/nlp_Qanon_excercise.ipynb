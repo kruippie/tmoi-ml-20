{
 "cells": [
  {
   "cell_type": "code",
   "execution_count": 1,
   "metadata": {},
   "outputs": [],
   "source": [
    "import requests\n",
    "import matplotlib.pyplot as plt\n",
    "import numpy as np\n",
    "import pandas as pd\n",
    "import seaborn as sns\n",
    "from sklearn.preprocessing import StandardScaler\n",
    "from sklearn.feature_extraction.text import CountVectorizer\n",
    "from sklearn.feature_extraction.text import TfidfVectorizer\n",
    "\n",
    "from sklearn.decomposition import PCA\n",
    "from textutils import *"
   ]
  },
  {
   "cell_type": "markdown",
   "metadata": {},
   "source": [
    "This notebook is an implementation of the approach described in this [essay](https://www.orphanalytics.com/en/news/whitepaper202012/OrphAnalyticsQAnon2020.pdf) and written about [here](https://www.prnewswire.com/news-releases/qanon-is-two-different-people-shows-machine-learning-analysis-from-orphanalytics-301192981.html).\n",
    "\n",
    "It analyzes the posts of QAnon, and concludes that the messages are probably written by two persons instead of one.\n",
    "\n",
    "From the last link:\n",
    ">  QAnon has spread conspiracy theories to an unprecedentedly large audience. Its thousands of online messages have popularized narratives such as the existence of a child-trafficking deep state. Recently, it inspired a series of violent attacks and was listed as a terrorist threat by the FBI. The Swiss company OrphAnalytics just published an analysis of all messages posted by Q. Its patented technology aims at identifying authors of written documents. It has found two individual signals within the corpus of Q messages. Its new study contributes to revealing the origins and the persons behind one of the most impactful conspiracy theories in recent times.\n",
    "\n",
    "We will replicate their analysis with \"patented technoloy\" with a simple sklearn approach.\n",
    "\n",
    "## get the data"
   ]
  },
  {
   "cell_type": "code",
   "execution_count": 2,
   "metadata": {},
   "outputs": [],
   "source": [
    "get_file('posts.json', \"https://raw.githubusercontent.com/jkingsman/JSON-QAnon/main/posts.json\")\n",
    "data = pd.read_json(\"posts.json\", orient='values')\n",
    "data = pd.DataFrame([flatten_json(x) for x in data['posts']])[[\"post_metadata_source_site\", \"post_metadata_time\", \"text\"]]"
   ]
  },
  {
   "cell_type": "code",
   "execution_count": 3,
   "metadata": {},
   "outputs": [
    {
     "data": {
      "text/html": [
       "<div>\n",
       "<style scoped>\n",
       "    .dataframe tbody tr th:only-of-type {\n",
       "        vertical-align: middle;\n",
       "    }\n",
       "\n",
       "    .dataframe tbody tr th {\n",
       "        vertical-align: top;\n",
       "    }\n",
       "\n",
       "    .dataframe thead th {\n",
       "        text-align: right;\n",
       "    }\n",
       "</style>\n",
       "<table border=\"1\" class=\"dataframe\">\n",
       "  <thead>\n",
       "    <tr style=\"text-align: right;\">\n",
       "      <th></th>\n",
       "      <th>post_metadata_source_site</th>\n",
       "      <th>post_metadata_time</th>\n",
       "      <th>text</th>\n",
       "    </tr>\n",
       "  </thead>\n",
       "  <tbody>\n",
       "    <tr>\n",
       "      <th>0</th>\n",
       "      <td>4ch</td>\n",
       "      <td>1509223468</td>\n",
       "      <td>&gt;&gt;147005381\\nHRC extradition already in motion...</td>\n",
       "    </tr>\n",
       "    <tr>\n",
       "      <th>1</th>\n",
       "      <td>4ch</td>\n",
       "      <td>1509228948</td>\n",
       "      <td>Mockingbird \\nHRC detained, not arrested (yet)...</td>\n",
       "    </tr>\n",
       "    <tr>\n",
       "      <th>2</th>\n",
       "      <td>4ch</td>\n",
       "      <td>1509292027</td>\n",
       "      <td>Open your eyes.\\nIt finally came out that Rod/...</td>\n",
       "    </tr>\n",
       "    <tr>\n",
       "      <th>3</th>\n",
       "      <td>4ch</td>\n",
       "      <td>1509293500</td>\n",
       "      <td>Some of us come here to drop crumbs, just crum...</td>\n",
       "    </tr>\n",
       "    <tr>\n",
       "      <th>4</th>\n",
       "      <td>4ch</td>\n",
       "      <td>1509295638</td>\n",
       "      <td>Follow the money, it’s the key.\\nWhat is Pelos...</td>\n",
       "    </tr>\n",
       "  </tbody>\n",
       "</table>\n",
       "</div>"
      ],
      "text/plain": [
       "  post_metadata_source_site  post_metadata_time  \\\n",
       "0                       4ch          1509223468   \n",
       "1                       4ch          1509228948   \n",
       "2                       4ch          1509292027   \n",
       "3                       4ch          1509293500   \n",
       "4                       4ch          1509295638   \n",
       "\n",
       "                                                text  \n",
       "0  >>147005381\\nHRC extradition already in motion...  \n",
       "1  Mockingbird \\nHRC detained, not arrested (yet)...  \n",
       "2  Open your eyes.\\nIt finally came out that Rod/...  \n",
       "3  Some of us come here to drop crumbs, just crum...  \n",
       "4  Follow the money, it’s the key.\\nWhat is Pelos...  "
      ]
     },
     "execution_count": 3,
     "metadata": {},
     "output_type": "execute_result"
    }
   ],
   "source": [
    "data.head()"
   ]
  },
  {
   "cell_type": "markdown",
   "metadata": {},
   "source": [
    "## Clean up the timestamps\n",
    "\n",
    "The text describes they used the analysis from [this](https://www.businessinsider.com/every-qanon-message-q-drop-analyzed-2020-10?international=true&r=US&IR=T) businessinsider article to bin the timeseries.\n",
    "\n",
    "<img src=\"Qanon.png\" width=450 height=400 />\n",
    "\n",
    "These dates are hardcoded into the `bin_time` function imported from the `textutils.py`\n"
   ]
  },
  {
   "cell_type": "code",
   "execution_count": 4,
   "metadata": {},
   "outputs": [],
   "source": [
    "data[\"time\"] =pd.to_datetime(data[\"post_metadata_time\"], unit=\"s\")\n",
    "data[\"time\"] = data[\"time\"].apply(lambda x : x.strftime(\"%Y-%m-%d\"))\n",
    "data[\"bintime\"] = data[\"time\"].apply(lambda x : bin_time(x))"
   ]
  },
  {
   "cell_type": "markdown",
   "metadata": {},
   "source": [
    "Let's clean up the text some more. We will replace linebreaks (\"\\n\") with spaces, remove urls and set everything to lowercase.\n",
    "\n",
    "use the `remove_url` function from the textutils."
   ]
  },
  {
   "cell_type": "code",
   "execution_count": 5,
   "metadata": {},
   "outputs": [],
   "source": [
    "data[\"text\"] = # your code\n",
    "data[\"text\"] = # your code\n",
    "data[\"text\"] = # your code"
   ]
  },
  {
   "cell_type": "markdown",
   "metadata": {},
   "source": [
    "Now, we count every text and filter chuncks with size below 50."
   ]
  },
  {
   "cell_type": "code",
   "execution_count": 6,
   "metadata": {},
   "outputs": [],
   "source": [
    "data['size'] = # your code\n",
    "data = data[data[\"size\"] > 50]\n",
    "data.reset_index(inplace=True, drop=True)"
   ]
  },
  {
   "cell_type": "markdown",
   "metadata": {},
   "source": [
    "# Predictive model\n"
   ]
  },
  {
   "cell_type": "code",
   "execution_count": 7,
   "metadata": {},
   "outputs": [
    {
     "data": {
      "text/plain": [
       "Counter({'4ch': 182, '8ch': 1702, '8kun': 373})"
      ]
     },
     "execution_count": 7,
     "metadata": {},
     "output_type": "execute_result"
    }
   ],
   "source": [
    "from collections import Counter\n",
    "count = Counter(data[\"post_metadata_source_site\"])\n",
    "count"
   ]
  },
  {
   "cell_type": "markdown",
   "metadata": {},
   "source": [
    "The categories are unbalanced. We could try to make a predictive model. This is not something the paper did, but let's try. \n",
    "\n",
    "First, we will resample.\n",
    "\n",
    "use a `.groupby` on the dataframe, and use `.sample` on that to sample the maximum \"4ch\" amount from the counter from every group, such that every group has an equal amount of samples."
   ]
  },
  {
   "cell_type": "code",
   "execution_count": 8,
   "metadata": {},
   "outputs": [],
   "source": [
    "downsampled = # your code"
   ]
  },
  {
   "cell_type": "markdown",
   "metadata": {},
   "source": [
    "Use a tdidf"
   ]
  },
  {
   "cell_type": "code",
   "execution_count": 9,
   "metadata": {},
   "outputs": [
    {
     "name": "stdout",
     "output_type": "stream",
     "text": [
      "(546, 6134)\n"
     ]
    }
   ],
   "source": [
    "vectorizer = # your code\n",
    "X = # your code\n",
    "print(X.shape)"
   ]
  },
  {
   "cell_type": "code",
   "execution_count": 10,
   "metadata": {},
   "outputs": [
    {
     "data": {
      "text/plain": [
       "array(['destruction', 'wants', 'tv', 'sampling', '120', 'body',\n",
       "       'insurgency', 'specialized', 'seattle', 'one'], dtype='<U59')"
      ]
     },
     "execution_count": 10,
     "metadata": {},
     "output_type": "execute_result"
    }
   ],
   "source": [
    "feats = vectorizer.get_feature_names()\n",
    "np.random.choice(feats, size=10)"
   ]
  },
  {
   "cell_type": "markdown",
   "metadata": {},
   "source": [
    "get the labels"
   ]
  },
  {
   "cell_type": "code",
   "execution_count": 11,
   "metadata": {},
   "outputs": [],
   "source": [
    "y = downsampled[\"post_metadata_source_site\"]"
   ]
  },
  {
   "cell_type": "markdown",
   "metadata": {},
   "source": [
    "build a train-test split"
   ]
  },
  {
   "cell_type": "code",
   "execution_count": 12,
   "metadata": {},
   "outputs": [
    {
     "data": {
      "text/plain": [
       "((436, 6134), (110, 6134))"
      ]
     },
     "execution_count": 12,
     "metadata": {},
     "output_type": "execute_result"
    }
   ],
   "source": [
    "from sklearn.model_selection import train_test_split\n",
    "X_train, X_test, y_train, y_test = train_test_split(\n",
    "    X, y, test_size=0.2, shuffle=True)\n",
    "X_train.shape, X_test.shape"
   ]
  },
  {
   "cell_type": "markdown",
   "metadata": {},
   "source": [
    "We get 5802 features. Let's test a simple model."
   ]
  },
  {
   "cell_type": "code",
   "execution_count": 13,
   "metadata": {},
   "outputs": [
    {
     "name": "stdout",
     "output_type": "stream",
     "text": [
      "0.6545454545454545\n"
     ]
    },
    {
     "data": {
      "text/plain": [
       "array([[29,  4,  1],\n",
       "       [ 5, 21,  6],\n",
       "       [ 3, 19, 22]])"
      ]
     },
     "execution_count": 13,
     "metadata": {},
     "output_type": "execute_result"
    }
   ],
   "source": [
    "from sklearn.svm import LinearSVC\n",
    "from sklearn.metrics import confusion_matrix\n",
    "\n",
    "# your code\n",
    "\n",
    "\n",
    "print(clf.score(X_test, y_test))\n",
    "confusion_matrix(y_test, yhat)"
   ]
  },
  {
   "cell_type": "markdown",
   "metadata": {},
   "source": [
    "And try to remove some of the features, to see if this makes things better.\n",
    "With PCA, we can reduce the dimensions such that we can account for 95% of the data."
   ]
  },
  {
   "cell_type": "code",
   "execution_count": 14,
   "metadata": {},
   "outputs": [
    {
     "data": {
      "text/plain": [
       "((436, 370), (110, 370))"
      ]
     },
     "execution_count": 14,
     "metadata": {},
     "output_type": "execute_result"
    }
   ],
   "source": [
    "pca = # your code\n",
    "X_train = pca.fit_transform(X_train.todense())\n",
    "X_test = pca.transform(X_test.todense())\n",
    "X_train.shape, X_test.shape"
   ]
  },
  {
   "cell_type": "code",
   "execution_count": 15,
   "metadata": {},
   "outputs": [
    {
     "name": "stdout",
     "output_type": "stream",
     "text": [
      "0.6272727272727273\n"
     ]
    },
    {
     "data": {
      "text/plain": [
       "array([[28,  4,  2],\n",
       "       [ 6, 21,  5],\n",
       "       [ 3, 21, 20]])"
      ]
     },
     "execution_count": 15,
     "metadata": {},
     "output_type": "execute_result"
    }
   ],
   "source": [
    "# fit and train the classifier on the reduced set\n",
    "\n",
    "# your code\n",
    "print(clf.score(X_test, y_test))\n",
    "confusion_matrix(y_test, yhat)"
   ]
  },
  {
   "cell_type": "markdown",
   "metadata": {},
   "source": [
    "The increase in performance is not that impressive. Sometimes it gets worse. However, we seem to be able to throw away about 90% of the features.\n",
    "\n",
    "Maybe more complex models could do a better job. But let's go back to the paper we are trying to implement.\n",
    "\n",
    "# Batching the text into 7k chuncks"
   ]
  },
  {
   "cell_type": "code",
   "execution_count": 17,
   "metadata": {},
   "outputs": [
    {
     "data": {
      "text/html": [
       "<div>\n",
       "<style scoped>\n",
       "    .dataframe tbody tr th:only-of-type {\n",
       "        vertical-align: middle;\n",
       "    }\n",
       "\n",
       "    .dataframe tbody tr th {\n",
       "        vertical-align: top;\n",
       "    }\n",
       "\n",
       "    .dataframe thead th {\n",
       "        text-align: right;\n",
       "    }\n",
       "</style>\n",
       "<table border=\"1\" class=\"dataframe\">\n",
       "  <thead>\n",
       "    <tr style=\"text-align: right;\">\n",
       "      <th></th>\n",
       "      <th>post_metadata_source_site</th>\n",
       "      <th>post_metadata_time</th>\n",
       "      <th>text</th>\n",
       "      <th>time</th>\n",
       "      <th>bintime</th>\n",
       "      <th>size</th>\n",
       "    </tr>\n",
       "  </thead>\n",
       "  <tbody>\n",
       "    <tr>\n",
       "      <th>0</th>\n",
       "      <td>4ch</td>\n",
       "      <td>1509223468</td>\n",
       "      <td>&gt;&gt;147005381 hrc extradition already in motion ...</td>\n",
       "      <td>2017-10-28</td>\n",
       "      <td>0</td>\n",
       "      <td>403</td>\n",
       "    </tr>\n",
       "    <tr>\n",
       "      <th>1</th>\n",
       "      <td>4ch</td>\n",
       "      <td>1509228948</td>\n",
       "      <td>mockingbird  hrc detained, not arrested (yet)....</td>\n",
       "      <td>2017-10-28</td>\n",
       "      <td>0</td>\n",
       "      <td>1139</td>\n",
       "    </tr>\n",
       "    <tr>\n",
       "      <th>2</th>\n",
       "      <td>4ch</td>\n",
       "      <td>1509292027</td>\n",
       "      <td>open your eyes. it finally came out that rod/b...</td>\n",
       "      <td>2017-10-29</td>\n",
       "      <td>0</td>\n",
       "      <td>690</td>\n",
       "    </tr>\n",
       "    <tr>\n",
       "      <th>3</th>\n",
       "      <td>4ch</td>\n",
       "      <td>1509293500</td>\n",
       "      <td>some of us come here to drop crumbs, just crum...</td>\n",
       "      <td>2017-10-29</td>\n",
       "      <td>0</td>\n",
       "      <td>910</td>\n",
       "    </tr>\n",
       "    <tr>\n",
       "      <th>4</th>\n",
       "      <td>4ch</td>\n",
       "      <td>1509295638</td>\n",
       "      <td>follow the money, it’s the key. what is pelosi...</td>\n",
       "      <td>2017-10-29</td>\n",
       "      <td>0</td>\n",
       "      <td>889</td>\n",
       "    </tr>\n",
       "    <tr>\n",
       "      <th>...</th>\n",
       "      <td>...</td>\n",
       "      <td>...</td>\n",
       "      <td>...</td>\n",
       "      <td>...</td>\n",
       "      <td>...</td>\n",
       "      <td>...</td>\n",
       "    </tr>\n",
       "    <tr>\n",
       "      <th>2252</th>\n",
       "      <td>8kun</td>\n",
       "      <td>1603411052</td>\n",
       "      <td>&gt;&gt;11223081 only the beginning, padawan. they c...</td>\n",
       "      <td>2020-10-22</td>\n",
       "      <td>4</td>\n",
       "      <td>143</td>\n",
       "    </tr>\n",
       "    <tr>\n",
       "      <th>2253</th>\n",
       "      <td>8kun</td>\n",
       "      <td>1604184244</td>\n",
       "      <td>are you ready to finish what we started? 'noth...</td>\n",
       "      <td>2020-10-31</td>\n",
       "      <td>4</td>\n",
       "      <td>105</td>\n",
       "    </tr>\n",
       "    <tr>\n",
       "      <th>2254</th>\n",
       "      <td>8kun</td>\n",
       "      <td>1604184408</td>\n",
       "      <td>are you ready to hold the political elite [pro...</td>\n",
       "      <td>2020-10-31</td>\n",
       "      <td>4</td>\n",
       "      <td>68</td>\n",
       "    </tr>\n",
       "    <tr>\n",
       "      <th>2255</th>\n",
       "      <td>8kun</td>\n",
       "      <td>1604184566</td>\n",
       "      <td>are you ready to take back control of this cou...</td>\n",
       "      <td>2020-10-31</td>\n",
       "      <td>4</td>\n",
       "      <td>53</td>\n",
       "    </tr>\n",
       "    <tr>\n",
       "      <th>2256</th>\n",
       "      <td>8kun</td>\n",
       "      <td>1605237617</td>\n",
       "      <td>shall we play a game? [n]othing [c]an [s]top [...</td>\n",
       "      <td>2020-11-13</td>\n",
       "      <td>4</td>\n",
       "      <td>511</td>\n",
       "    </tr>\n",
       "  </tbody>\n",
       "</table>\n",
       "<p>2257 rows × 6 columns</p>\n",
       "</div>"
      ],
      "text/plain": [
       "     post_metadata_source_site  post_metadata_time  \\\n",
       "0                          4ch          1509223468   \n",
       "1                          4ch          1509228948   \n",
       "2                          4ch          1509292027   \n",
       "3                          4ch          1509293500   \n",
       "4                          4ch          1509295638   \n",
       "...                        ...                 ...   \n",
       "2252                      8kun          1603411052   \n",
       "2253                      8kun          1604184244   \n",
       "2254                      8kun          1604184408   \n",
       "2255                      8kun          1604184566   \n",
       "2256                      8kun          1605237617   \n",
       "\n",
       "                                                   text        time  bintime  \\\n",
       "0     >>147005381 hrc extradition already in motion ...  2017-10-28        0   \n",
       "1     mockingbird  hrc detained, not arrested (yet)....  2017-10-28        0   \n",
       "2     open your eyes. it finally came out that rod/b...  2017-10-29        0   \n",
       "3     some of us come here to drop crumbs, just crum...  2017-10-29        0   \n",
       "4     follow the money, it’s the key. what is pelosi...  2017-10-29        0   \n",
       "...                                                 ...         ...      ...   \n",
       "2252  >>11223081 only the beginning, padawan. they c...  2020-10-22        4   \n",
       "2253  are you ready to finish what we started? 'noth...  2020-10-31        4   \n",
       "2254  are you ready to hold the political elite [pro...  2020-10-31        4   \n",
       "2255  are you ready to take back control of this cou...  2020-10-31        4   \n",
       "2256  shall we play a game? [n]othing [c]an [s]top [...  2020-11-13        4   \n",
       "\n",
       "      size  \n",
       "0      403  \n",
       "1     1139  \n",
       "2      690  \n",
       "3      910  \n",
       "4      889  \n",
       "...    ...  \n",
       "2252   143  \n",
       "2253   105  \n",
       "2254    68  \n",
       "2255    53  \n",
       "2256   511  \n",
       "\n",
       "[2257 rows x 6 columns]"
      ]
     },
     "execution_count": 17,
     "metadata": {},
     "output_type": "execute_result"
    }
   ],
   "source": [
    "data"
   ]
  },
  {
   "cell_type": "code",
   "execution_count": 18,
   "metadata": {},
   "outputs": [],
   "source": [
    "def batch_seq(text, k):\n",
    "\tlongseq = \" \".join(text)\n",
    "\tn = int(len(longseq) / k)\n",
    "\tparts = [longseq[i:i+n] for i in range(0, len(longseq), n)]\n",
    "\treturn parts, n\n"
   ]
  },
  {
   "cell_type": "markdown",
   "metadata": {},
   "source": [
    "The paper describes batching all the text into chunks of 7500 characters. We can obtain sort of the same by splitting the text up into 100 batches, 7.7k each."
   ]
  },
  {
   "cell_type": "code",
   "execution_count": 19,
   "metadata": {},
   "outputs": [
    {
     "data": {
      "text/plain": [
       "(100, 7710)"
      ]
     },
     "execution_count": 19,
     "metadata": {},
     "output_type": "execute_result"
    }
   ],
   "source": [
    "z=100\n",
    "parts, n = batch_seq(data[\"text\"], k=z)\n",
    "parts = parts[:-1]\n",
    "len(parts), n"
   ]
  },
  {
   "cell_type": "markdown",
   "metadata": {},
   "source": [
    "Let's keep track of which datapoint belongs to which batch"
   ]
  },
  {
   "cell_type": "code",
   "execution_count": 20,
   "metadata": {},
   "outputs": [],
   "source": [
    "data['group'] = data[\"size\"].cumsum() // n"
   ]
  },
  {
   "cell_type": "code",
   "execution_count": 21,
   "metadata": {},
   "outputs": [
    {
     "data": {
      "text/html": [
       "<div>\n",
       "<style scoped>\n",
       "    .dataframe tbody tr th:only-of-type {\n",
       "        vertical-align: middle;\n",
       "    }\n",
       "\n",
       "    .dataframe tbody tr th {\n",
       "        vertical-align: top;\n",
       "    }\n",
       "\n",
       "    .dataframe thead th {\n",
       "        text-align: right;\n",
       "    }\n",
       "</style>\n",
       "<table border=\"1\" class=\"dataframe\">\n",
       "  <thead>\n",
       "    <tr style=\"text-align: right;\">\n",
       "      <th></th>\n",
       "      <th>post_metadata_source_site</th>\n",
       "      <th>post_metadata_time</th>\n",
       "      <th>text</th>\n",
       "      <th>time</th>\n",
       "      <th>bintime</th>\n",
       "      <th>size</th>\n",
       "      <th>group</th>\n",
       "    </tr>\n",
       "  </thead>\n",
       "  <tbody>\n",
       "    <tr>\n",
       "      <th>0</th>\n",
       "      <td>4ch</td>\n",
       "      <td>1509223468</td>\n",
       "      <td>&gt;&gt;147005381 hrc extradition already in motion ...</td>\n",
       "      <td>2017-10-28</td>\n",
       "      <td>0</td>\n",
       "      <td>403</td>\n",
       "      <td>0</td>\n",
       "    </tr>\n",
       "    <tr>\n",
       "      <th>1</th>\n",
       "      <td>4ch</td>\n",
       "      <td>1509228948</td>\n",
       "      <td>mockingbird  hrc detained, not arrested (yet)....</td>\n",
       "      <td>2017-10-28</td>\n",
       "      <td>0</td>\n",
       "      <td>1139</td>\n",
       "      <td>0</td>\n",
       "    </tr>\n",
       "    <tr>\n",
       "      <th>2</th>\n",
       "      <td>4ch</td>\n",
       "      <td>1509292027</td>\n",
       "      <td>open your eyes. it finally came out that rod/b...</td>\n",
       "      <td>2017-10-29</td>\n",
       "      <td>0</td>\n",
       "      <td>690</td>\n",
       "      <td>0</td>\n",
       "    </tr>\n",
       "    <tr>\n",
       "      <th>3</th>\n",
       "      <td>4ch</td>\n",
       "      <td>1509293500</td>\n",
       "      <td>some of us come here to drop crumbs, just crum...</td>\n",
       "      <td>2017-10-29</td>\n",
       "      <td>0</td>\n",
       "      <td>910</td>\n",
       "      <td>0</td>\n",
       "    </tr>\n",
       "    <tr>\n",
       "      <th>4</th>\n",
       "      <td>4ch</td>\n",
       "      <td>1509295638</td>\n",
       "      <td>follow the money, it’s the key. what is pelosi...</td>\n",
       "      <td>2017-10-29</td>\n",
       "      <td>0</td>\n",
       "      <td>889</td>\n",
       "      <td>0</td>\n",
       "    </tr>\n",
       "    <tr>\n",
       "      <th>...</th>\n",
       "      <td>...</td>\n",
       "      <td>...</td>\n",
       "      <td>...</td>\n",
       "      <td>...</td>\n",
       "      <td>...</td>\n",
       "      <td>...</td>\n",
       "      <td>...</td>\n",
       "    </tr>\n",
       "    <tr>\n",
       "      <th>2252</th>\n",
       "      <td>8kun</td>\n",
       "      <td>1603411052</td>\n",
       "      <td>&gt;&gt;11223081 only the beginning, padawan. they c...</td>\n",
       "      <td>2020-10-22</td>\n",
       "      <td>4</td>\n",
       "      <td>143</td>\n",
       "      <td>99</td>\n",
       "    </tr>\n",
       "    <tr>\n",
       "      <th>2253</th>\n",
       "      <td>8kun</td>\n",
       "      <td>1604184244</td>\n",
       "      <td>are you ready to finish what we started? 'noth...</td>\n",
       "      <td>2020-10-31</td>\n",
       "      <td>4</td>\n",
       "      <td>105</td>\n",
       "      <td>99</td>\n",
       "    </tr>\n",
       "    <tr>\n",
       "      <th>2254</th>\n",
       "      <td>8kun</td>\n",
       "      <td>1604184408</td>\n",
       "      <td>are you ready to hold the political elite [pro...</td>\n",
       "      <td>2020-10-31</td>\n",
       "      <td>4</td>\n",
       "      <td>68</td>\n",
       "      <td>99</td>\n",
       "    </tr>\n",
       "    <tr>\n",
       "      <th>2255</th>\n",
       "      <td>8kun</td>\n",
       "      <td>1604184566</td>\n",
       "      <td>are you ready to take back control of this cou...</td>\n",
       "      <td>2020-10-31</td>\n",
       "      <td>4</td>\n",
       "      <td>53</td>\n",
       "      <td>99</td>\n",
       "    </tr>\n",
       "    <tr>\n",
       "      <th>2256</th>\n",
       "      <td>8kun</td>\n",
       "      <td>1605237617</td>\n",
       "      <td>shall we play a game? [n]othing [c]an [s]top [...</td>\n",
       "      <td>2020-11-13</td>\n",
       "      <td>4</td>\n",
       "      <td>511</td>\n",
       "      <td>99</td>\n",
       "    </tr>\n",
       "  </tbody>\n",
       "</table>\n",
       "<p>2257 rows × 7 columns</p>\n",
       "</div>"
      ],
      "text/plain": [
       "     post_metadata_source_site  post_metadata_time  \\\n",
       "0                          4ch          1509223468   \n",
       "1                          4ch          1509228948   \n",
       "2                          4ch          1509292027   \n",
       "3                          4ch          1509293500   \n",
       "4                          4ch          1509295638   \n",
       "...                        ...                 ...   \n",
       "2252                      8kun          1603411052   \n",
       "2253                      8kun          1604184244   \n",
       "2254                      8kun          1604184408   \n",
       "2255                      8kun          1604184566   \n",
       "2256                      8kun          1605237617   \n",
       "\n",
       "                                                   text        time  bintime  \\\n",
       "0     >>147005381 hrc extradition already in motion ...  2017-10-28        0   \n",
       "1     mockingbird  hrc detained, not arrested (yet)....  2017-10-28        0   \n",
       "2     open your eyes. it finally came out that rod/b...  2017-10-29        0   \n",
       "3     some of us come here to drop crumbs, just crum...  2017-10-29        0   \n",
       "4     follow the money, it’s the key. what is pelosi...  2017-10-29        0   \n",
       "...                                                 ...         ...      ...   \n",
       "2252  >>11223081 only the beginning, padawan. they c...  2020-10-22        4   \n",
       "2253  are you ready to finish what we started? 'noth...  2020-10-31        4   \n",
       "2254  are you ready to hold the political elite [pro...  2020-10-31        4   \n",
       "2255  are you ready to take back control of this cou...  2020-10-31        4   \n",
       "2256  shall we play a game? [n]othing [c]an [s]top [...  2020-11-13        4   \n",
       "\n",
       "      size  group  \n",
       "0      403      0  \n",
       "1     1139      0  \n",
       "2      690      0  \n",
       "3      910      0  \n",
       "4      889      0  \n",
       "...    ...    ...  \n",
       "2252   143     99  \n",
       "2253   105     99  \n",
       "2254    68     99  \n",
       "2255    53     99  \n",
       "2256   511     99  \n",
       "\n",
       "[2257 rows x 7 columns]"
      ]
     },
     "execution_count": 21,
     "metadata": {},
     "output_type": "execute_result"
    }
   ],
   "source": [
    "data"
   ]
  },
  {
   "cell_type": "markdown",
   "metadata": {},
   "source": [
    "The paper uses a ngram with size 3 on characterlevel. We can do that with `CountVectorizer`"
   ]
  },
  {
   "cell_type": "code",
   "execution_count": 22,
   "metadata": {},
   "outputs": [
    {
     "data": {
      "text/plain": [
       "<100x23065 sparse matrix of type '<class 'numpy.int64'>'\n",
       "\twith 247786 stored elements in Compressed Sparse Row format>"
      ]
     },
     "execution_count": 22,
     "metadata": {},
     "output_type": "execute_result"
    }
   ],
   "source": [
    "vectorizer = # your code\n",
    "X = vectorizer.fit_transform(parts)\n",
    "X"
   ]
  },
  {
   "cell_type": "markdown",
   "metadata": {},
   "source": [
    "And calculates the pairwise manhattan distances. That way, we get an idea how how different every chunk is, when compared to all other chunks, in terms of the ngrams."
   ]
  },
  {
   "cell_type": "code",
   "execution_count": 23,
   "metadata": {},
   "outputs": [],
   "source": [
    "from sklearn.metrics.pairwise import manhattan_distances\n",
    "X = X.todense()\n",
    "distance = # your code"
   ]
  },
  {
   "cell_type": "markdown",
   "metadata": {},
   "source": [
    "To handle the labels, we make integers of the labels."
   ]
  },
  {
   "cell_type": "code",
   "execution_count": 24,
   "metadata": {},
   "outputs": [],
   "source": [
    "labels = np.unique(data.post_metadata_source_site)\n",
    "mapping = {labels[i]:i for i in range(3)}\n",
    "data[\"source\"] = data[\"post_metadata_source_site\"].apply(lambda x : mapping[x])"
   ]
  },
  {
   "cell_type": "markdown",
   "metadata": {},
   "source": [
    "Because we have integers, we can round the groups. This way, we can handle chunks of 7.7k characters that are partly in one group, and partly in another."
   ]
  },
  {
   "cell_type": "code",
   "execution_count": 25,
   "metadata": {},
   "outputs": [
    {
     "data": {
      "text/plain": [
       "<matplotlib.collections.PathCollection at 0x7fed2c4a6160>"
      ]
     },
     "execution_count": 25,
     "metadata": {},
     "output_type": "execute_result"
    },
    {
     "data": {
      "image/png": "[encoded data removed]",
      "text/plain": [
       "<Figure size 432x288 with 1 Axes>"
      ]
     },
     "metadata": {
      "needs_background": "light"
     },
     "output_type": "display_data"
    }
   ],
   "source": [
    "sourcemean = np.round(data.groupby(\"group\").source.mean()).values.reshape(-1,1)\n",
    "plt.scatter(range(z), sourcemean)"
   ]
  },
  {
   "cell_type": "markdown",
   "metadata": {},
   "source": [
    "And to the same for the timebins."
   ]
  },
  {
   "cell_type": "code",
   "execution_count": 28,
   "metadata": {},
   "outputs": [
    {
     "data": {
      "image/png": "[encoded data removed]",
      "text/plain": [
       "<Figure size 432x288 with 1 Axes>"
      ]
     },
     "metadata": {
      "needs_background": "light"
     },
     "output_type": "display_data"
    }
   ],
   "source": [
    "timemean = np.round(data.groupby(\"group\").bintime.mean()).values.reshape(-1,1)\n",
    "\n",
    "plt.scatter(range(z), timemean)\n",
    "plt.show()"
   ]
  },
  {
   "cell_type": "markdown",
   "metadata": {},
   "source": [
    "## PCA\n",
    "We will now reduce the dimensionality to 2 components with PCA."
   ]
  },
  {
   "cell_type": "code",
   "execution_count": 29,
   "metadata": {},
   "outputs": [],
   "source": [
    "pca = # your code\n",
    "model = pca.fit_transform(distance)"
   ]
  },
  {
   "cell_type": "markdown",
   "metadata": {},
   "source": [
    "and concatenate everything together into one dataframe."
   ]
  },
  {
   "cell_type": "code",
   "execution_count": 30,
   "metadata": {},
   "outputs": [
    {
     "data": {
      "text/html": [
       "<div>\n",
       "<style scoped>\n",
       "    .dataframe tbody tr th:only-of-type {\n",
       "        vertical-align: middle;\n",
       "    }\n",
       "\n",
       "    .dataframe tbody tr th {\n",
       "        vertical-align: top;\n",
       "    }\n",
       "\n",
       "    .dataframe thead th {\n",
       "        text-align: right;\n",
       "    }\n",
       "</style>\n",
       "<table border=\"1\" class=\"dataframe\">\n",
       "  <thead>\n",
       "    <tr style=\"text-align: right;\">\n",
       "      <th></th>\n",
       "      <th>index</th>\n",
       "      <th>x</th>\n",
       "      <th>y</th>\n",
       "      <th>source</th>\n",
       "      <th>time</th>\n",
       "    </tr>\n",
       "  </thead>\n",
       "  <tbody>\n",
       "    <tr>\n",
       "      <th>0</th>\n",
       "      <td>0</td>\n",
       "      <td>-4962.117759</td>\n",
       "      <td>4689.010764</td>\n",
       "      <td>0.0</td>\n",
       "      <td>0</td>\n",
       "    </tr>\n",
       "    <tr>\n",
       "      <th>1</th>\n",
       "      <td>1</td>\n",
       "      <td>-6779.553386</td>\n",
       "      <td>5011.369897</td>\n",
       "      <td>0.0</td>\n",
       "      <td>0</td>\n",
       "    </tr>\n",
       "    <tr>\n",
       "      <th>2</th>\n",
       "      <td>2</td>\n",
       "      <td>-6687.795765</td>\n",
       "      <td>4005.028966</td>\n",
       "      <td>0.0</td>\n",
       "      <td>0</td>\n",
       "    </tr>\n",
       "    <tr>\n",
       "      <th>3</th>\n",
       "      <td>3</td>\n",
       "      <td>-6141.775227</td>\n",
       "      <td>5703.902465</td>\n",
       "      <td>0.0</td>\n",
       "      <td>0</td>\n",
       "    </tr>\n",
       "    <tr>\n",
       "      <th>4</th>\n",
       "      <td>4</td>\n",
       "      <td>-5655.252860</td>\n",
       "      <td>4399.479831</td>\n",
       "      <td>0.0</td>\n",
       "      <td>0</td>\n",
       "    </tr>\n",
       "    <tr>\n",
       "      <th>...</th>\n",
       "      <td>...</td>\n",
       "      <td>...</td>\n",
       "      <td>...</td>\n",
       "      <td>...</td>\n",
       "      <td>...</td>\n",
       "    </tr>\n",
       "    <tr>\n",
       "      <th>95</th>\n",
       "      <td>95</td>\n",
       "      <td>442.229817</td>\n",
       "      <td>-2681.537909</td>\n",
       "      <td>2.0</td>\n",
       "      <td>4</td>\n",
       "    </tr>\n",
       "    <tr>\n",
       "      <th>96</th>\n",
       "      <td>96</td>\n",
       "      <td>8348.465632</td>\n",
       "      <td>-1460.042371</td>\n",
       "      <td>2.0</td>\n",
       "      <td>4</td>\n",
       "    </tr>\n",
       "    <tr>\n",
       "      <th>97</th>\n",
       "      <td>97</td>\n",
       "      <td>-1002.431624</td>\n",
       "      <td>-1100.965354</td>\n",
       "      <td>2.0</td>\n",
       "      <td>4</td>\n",
       "    </tr>\n",
       "    <tr>\n",
       "      <th>98</th>\n",
       "      <td>98</td>\n",
       "      <td>-276.928766</td>\n",
       "      <td>-435.848472</td>\n",
       "      <td>2.0</td>\n",
       "      <td>4</td>\n",
       "    </tr>\n",
       "    <tr>\n",
       "      <th>99</th>\n",
       "      <td>99</td>\n",
       "      <td>-2030.730358</td>\n",
       "      <td>-2745.541141</td>\n",
       "      <td>2.0</td>\n",
       "      <td>4</td>\n",
       "    </tr>\n",
       "  </tbody>\n",
       "</table>\n",
       "<p>100 rows × 5 columns</p>\n",
       "</div>"
      ],
      "text/plain": [
       "    index            x            y  source  time\n",
       "0       0 -4962.117759  4689.010764     0.0     0\n",
       "1       1 -6779.553386  5011.369897     0.0     0\n",
       "2       2 -6687.795765  4005.028966     0.0     0\n",
       "3       3 -6141.775227  5703.902465     0.0     0\n",
       "4       4 -5655.252860  4399.479831     0.0     0\n",
       "..    ...          ...          ...     ...   ...\n",
       "95     95   442.229817 -2681.537909     2.0     4\n",
       "96     96  8348.465632 -1460.042371     2.0     4\n",
       "97     97 -1002.431624 -1100.965354     2.0     4\n",
       "98     98  -276.928766  -435.848472     2.0     4\n",
       "99     99 -2030.730358 -2745.541141     2.0     4\n",
       "\n",
       "[100 rows x 5 columns]"
      ]
     },
     "execution_count": 30,
     "metadata": {},
     "output_type": "execute_result"
    }
   ],
   "source": [
    "p = pd.DataFrame(np.concatenate([model, sourcemean, timemean], axis=1), columns=[\"x\", \"y\", \"source\", \"time\"]).reset_index()\n",
    "p[\"time\"] = p[\"time\"].astype(int)\n",
    "p"
   ]
  },
  {
   "cell_type": "markdown",
   "metadata": {},
   "source": [
    "## Plot\n",
    "With all this, we can start plotting. \n",
    "First, a scatterplot with the source as hue."
   ]
  },
  {
   "cell_type": "code",
   "execution_count": 31,
   "metadata": {},
   "outputs": [
    {
     "data": {
      "text/plain": [
       "<AxesSubplot:xlabel='x', ylabel='y'>"
      ]
     },
     "execution_count": 31,
     "metadata": {},
     "output_type": "execute_result"
    },
    {
     "data": {
      "image/png": "[encoded data removed]",
      "text/plain": [
       "<Figure size 720x720 with 1 Axes>"
      ]
     },
     "metadata": {
      "needs_background": "light"
     },
     "output_type": "display_data"
    }
   ],
   "source": [
    "# your code"
   ]
  },
  {
   "cell_type": "markdown",
   "metadata": {},
   "source": [
    "This reproduces the main conclusion, that the red source is not overlapping with the other two sources.\n",
    "\n",
    "Of course, this tells you nothing about how high the chance is, that this is actually caused by having two authors, or by somehow changing the writing style.\n",
    "\n",
    "For that, we would need access to how likely it is that the writing style changes this much.\n",
    "\n",
    "However, we still have reproduced their \"patented technology\" with a few lines of code.\n",
    "\n",
    "Let's try a kde plot. use sns.joinplot with `kind=\"kde\""
   ]
  },
  {
   "cell_type": "code",
   "execution_count": 19,
   "metadata": {},
   "outputs": [
    {
     "data": {
      "text/plain": [
       "<seaborn.axisgrid.JointGrid at 0x7fa8f6272a00>"
      ]
     },
     "execution_count": 19,
     "metadata": {},
     "output_type": "execute_result"
    },
    {
     "data": {
      "text/plain": [
       "<Figure size 1080x1080 with 0 Axes>"
      ]
     },
     "metadata": {},
     "output_type": "display_data"
    },
    {
     "data": {
      "image/png": "[encoded data removed]",
      "text/plain": [
       "<Figure size 432x432 with 3 Axes>"
      ]
     },
     "metadata": {
      "needs_background": "light"
     },
     "output_type": "display_data"
    }
   ],
   "source": [
    "plt.figure(figsize=(15,15))\n",
    "# your code"
   ]
  },
  {
   "cell_type": "markdown",
   "metadata": {},
   "source": [
    "And lets use the time as hue."
   ]
  },
  {
   "cell_type": "code",
   "execution_count": 32,
   "metadata": {},
   "outputs": [
    {
     "data": {
      "text/plain": [
       "<AxesSubplot:xlabel='x', ylabel='y'>"
      ]
     },
     "execution_count": 32,
     "metadata": {},
     "output_type": "execute_result"
    },
    {
     "data": {
      "image/png": "[encoded data removed]",
      "text/plain": [
       "<Figure size 720x720 with 1 Axes>"
      ]
     },
     "metadata": {
      "needs_background": "light"
     },
     "output_type": "display_data"
    }
   ],
   "source": [
    "plt.figure(figsize=(10,10))\n",
    "# your code"
   ]
  },
  {
   "cell_type": "markdown",
   "metadata": {},
   "source": [
    "Maybe a facet plot, combining source als col and time as hue."
   ]
  },
  {
   "cell_type": "code",
   "execution_count": 22,
   "metadata": {},
   "outputs": [
    {
     "data": {
      "text/plain": [
       "<seaborn.axisgrid.FacetGrid at 0x7fa8f6101580>"
      ]
     },
     "execution_count": 22,
     "metadata": {},
     "output_type": "execute_result"
    },
    {
     "data": {
      "image/png": "[encoded data removed]",
      "text/plain": [
       "<Figure size 648x216 with 3 Axes>"
      ]
     },
     "metadata": {
      "needs_background": "light"
     },
     "output_type": "display_data"
    }
   ],
   "source": [
    "# your code"
   ]
  }
 ],
 "metadata": {
  "interpreter": {
   "hash": "1ca2ed108e0829ad954ac36f354f1cc4b518ca95c97ddb3ce5ba4e3a95bf1dea"
  },
  "kernelspec": {
   "display_name": "Python 3.8.3 64-bit ('tensorflow': conda)",
   "name": "python38364bittensorflowconda60937b29d62348d0bc10902efa6e00a3"
  },
  "language_info": {
   "name": "python",
   "version": ""
  },
  "orig_nbformat": 4
 },
 "nbformat": 4,
 "nbformat_minor": 2
}