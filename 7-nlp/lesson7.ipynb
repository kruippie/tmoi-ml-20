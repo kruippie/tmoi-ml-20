{
 "cells": [
  {
   "cell_type": "markdown",
   "metadata": {},
   "source": [
    "# Embeddings"
   ]
  },
  {
   "cell_type": "code",
   "execution_count": 1,
   "metadata": {},
   "outputs": [
    {
     "name": "stdout",
     "output_type": "stream",
     "text": [
      "2.5.0\n"
     ]
    }
   ],
   "source": [
    "import tensorflow as tf\n",
    "from tensorflow.keras.layers.experimental.preprocessing import TextVectorization\n",
    "from tensorflow.keras.layers import Embedding, Dense, GlobalAveragePooling1D, Input, Conv1D, MaxPooling1D\n",
    "from tensorflow.keras.layers import InputLayer\n",
    "from tensorflow.keras.models import Sequential\n",
    "from tensorflow.keras.callbacks import TensorBoard\n",
    "import re\n",
    "import string\n",
    "import os\n",
    "import shutil\n",
    "import numpy as np\n",
    "from utils import *\n",
    "print(tf.__version__)\n",
    "%load_ext tensorboard"
   ]
  },
  {
   "cell_type": "code",
   "execution_count": 2,
   "metadata": {},
   "outputs": [],
   "source": [
    "text = 'the cat sat on the mat'"
   ]
  },
  {
   "cell_type": "code",
   "execution_count": 3,
   "metadata": {},
   "outputs": [
    {
     "data": {
      "text/plain": [
       "matrix([[0., 0., 0., 0., 1.],\n",
       "        [1., 0., 0., 0., 0.],\n",
       "        [0., 0., 0., 1., 0.],\n",
       "        [0., 0., 1., 0., 0.],\n",
       "        [0., 0., 0., 0., 1.],\n",
       "        [0., 1., 0., 0., 0.]])"
      ]
     },
     "execution_count": 3,
     "metadata": {},
     "output_type": "execute_result"
    }
   ],
   "source": [
    "from sklearn.preprocessing import OneHotEncoder\n",
    "oh = OneHotEncoder()\n",
    "X = np.array(text.split(\" \")).reshape(-1, 1)\n",
    "X = oh.fit_transform(X)\n",
    "X.todense()"
   ]
  },
  {
   "cell_type": "markdown",
   "metadata": {},
   "source": [
    "We could use one hot encoding, like this\n",
    "\n",
    "<img src=https://www.tensorflow.org/text/guide/images/one-hot.png width=400/>\n",
    "\n",
    "But this becomes really inefficient if we have a 10.000 word vocabulary....\n",
    "\n",
    "So, maybe let's give each word a unique number. First, we create a tensorflow dataset"
   ]
  },
  {
   "cell_type": "code",
   "execution_count": 4,
   "metadata": {},
   "outputs": [],
   "source": [
    "X = text.split(\" \")\n",
    "text_dataset = tf.data.Dataset.from_tensor_slices(X)"
   ]
  },
  {
   "cell_type": "markdown",
   "metadata": {},
   "source": [
    "We have to set some hyperparameters for the creation of our embedding. \n",
    "\n",
    "- What is the **maximum vocabulary size**? This depenends on the problem at hand and the vocabulary available.\n",
    "- What is a **max sequence length** at which we want to cut off the sequences? We wont be using RNNs, so we have to set a fixed length. If a sequence is too short, it will be padded with some token, eg zeros.\n",
    "- What is the **dimensionality of the embedding**? This depends on the problem at hand. If we create an embedding with 50 dimensions, it can contain much more finegrained information as opposed to a 10D embedding, or 2D. But embeddings of 50 (or 300, or 1000) might also become too complex, and thus suffer from overfitting / long time to train etc."
   ]
  },
  {
   "cell_type": "code",
   "execution_count": 5,
   "metadata": {},
   "outputs": [],
   "source": [
    "vocab_size = 5 + 2  # Maximum vocab size . 5 for the words, 2 for a padding token and an unknown token.\n",
    "max_len = 6  # max sequence length to pad the outputs to.\n",
    "embedding_dims = 4"
   ]
  },
  {
   "cell_type": "markdown",
   "metadata": {},
   "source": [
    "With these settings, we can initialize the vectorization of the words."
   ]
  },
  {
   "cell_type": "code",
   "execution_count": 6,
   "metadata": {},
   "outputs": [],
   "source": [
    "from tensorflow.keras.layers.experimental.preprocessing import TextVectorization\n",
    "\n",
    "# Create the layer.\n",
    "vectorize_layer = TextVectorization(\n",
    " max_tokens=vocab_size,\n",
    " output_mode='int',\n",
    " output_sequence_length=max_len)"
   ]
  },
  {
   "cell_type": "markdown",
   "metadata": {},
   "source": [
    "Now that the vocab layer has been created, call `adapt` on the text-only dataset to create the vocabulary. You don't have to batch with this small example, but for large datasets this means we're not keeping spare copies of the dataset."
   ]
  },
  {
   "cell_type": "code",
   "execution_count": 7,
   "metadata": {},
   "outputs": [],
   "source": [
    "vectorize_layer.adapt(text_dataset.batch(64))"
   ]
  },
  {
   "cell_type": "markdown",
   "metadata": {},
   "source": [
    "Now, those were all the steps we had to take. We now have a functioning vectorize layer. Let's have a look at the resulting vocabulary"
   ]
  },
  {
   "cell_type": "code",
   "execution_count": 8,
   "metadata": {},
   "outputs": [
    {
     "data": {
      "text/plain": [
       "['', '[UNK]', 'the', 'sat', 'on', 'mat', 'cat']"
      ]
     },
     "execution_count": 8,
     "metadata": {},
     "output_type": "execute_result"
    }
   ],
   "source": [
    "vectorize_layer.get_vocabulary()"
   ]
  },
  {
   "cell_type": "markdown",
   "metadata": {},
   "source": [
    "We recognize the words of the text, but also additional tokens for an empty token (used for padding) and an unknown token.\n",
    "\n",
    "Let's look at a minimal example of the vectorization in action"
   ]
  },
  {
   "cell_type": "code",
   "execution_count": 9,
   "metadata": {},
   "outputs": [],
   "source": [
    "from tensorflow.keras.models import Sequential\n",
    "\n",
    "# Create the model that uses the vectorize text layer\n",
    "model = Sequential([\n",
    "    # Start by creating an explicit input layer. It needs to have a shape of\n",
    "    # (1,) (because we need to tell the model that there is exactly one string\n",
    "    # input per batch), and the dtype needs to be 'string'.\n",
    "    InputLayer(input_shape=[1], dtype=tf.string),\n",
    "    # The first layer in our model is the vectorization layer. After this\n",
    "    # layer, we have a tensor of shape (batch_size, max_len) containing vocab\n",
    "    # indices.\n",
    "    vectorize_layer\n",
    "])"
   ]
  },
  {
   "cell_type": "code",
   "execution_count": 10,
   "metadata": {},
   "outputs": [
    {
     "data": {
      "text/plain": [
       "array([[1, 3, 2, 6, 0, 0],\n",
       "       [2, 6, 3, 4, 2, 5]])"
      ]
     },
     "execution_count": 10,
     "metadata": {},
     "output_type": "execute_result"
    }
   ],
   "source": [
    "# Now, the model can map strings to integers, and you can add an embedding\n",
    "# layer to map these integers to learned embeddings.\n",
    "input_data = [[\"where sat the cat\"], [\"the cat sat on the mat\"]]\n",
    "model.predict(input_data)"
   ]
  },
  {
   "cell_type": "markdown",
   "metadata": {},
   "source": [
    "So, this is what we wanted! Instead of using a one-hot-encoding that takes a lot of space, we have a sparse encoding that encodes every word as a arbitrary integer.\n",
    "\n",
    "Can you trace back the sentence encoding from the vocabulary?\n",
    "Try to decode for yourself. Look at the sentence 'where sat the cat', look at the vocabulary we printed three cells back, and look at the result `[1,3,2,6,0,0]`.\n",
    "\n",
    "- what happened with the word 'where'? Why is that?\n",
    "- what happened with the length of the inputsentence?\n",
    "\n",
    "\n",
    "We can feed this vectorized form to an embedding layer in the shape of `(batches x sequencelength)`. An Embedding layer will try to learn an encoding of the input. The learning will take place with regards to the output we feed the model, and the loss function.\n",
    "\n",
    "The output of the Embedding layer will be `(batches x sequencelength x embedding_dimensionality)`. So, 32 sentences, each with a length of 10 words, will have a shape `(32,10)`. The ouput of the embedding will be `(32, 10, 4)` if you use a 4-dimensional embedding for every word.\n",
    "\n",
    "<img src=https://www.tensorflow.org/text/guide/images/embedding2.png width=400/>"
   ]
  },
  {
   "cell_type": "code",
   "execution_count": 11,
   "metadata": {},
   "outputs": [],
   "source": [
    "embedding_dimension = 5\n",
    "model = Sequential([\n",
    "    InputLayer(input_shape=[1], dtype=tf.string),\n",
    "    vectorize_layer,\n",
    "    Embedding(input_dim = vocab_size, output_dim = embedding_dimension)\n",
    "])"
   ]
  },
  {
   "cell_type": "code",
   "execution_count": 12,
   "metadata": {},
   "outputs": [
    {
     "data": {
      "text/plain": [
       "(2, 6, 5)"
      ]
     },
     "execution_count": 12,
     "metadata": {},
     "output_type": "execute_result"
    }
   ],
   "source": [
    "result = model.predict(input_data)\n",
    "result.shape"
   ]
  },
  {
   "cell_type": "markdown",
   "metadata": {},
   "source": [
    "So, we can see:\n",
    "\n",
    "- we have two observations (batch size)\n",
    "- every observation has a sequence length of 6 words\n",
    "- every word is encoded with 5 numbers\n",
    "\n",
    "We have effectively embedded every word in a 5 dimensional vectorspace."
   ]
  },
  {
   "cell_type": "code",
   "execution_count": 13,
   "metadata": {},
   "outputs": [
    {
     "data": {
      "text/plain": [
       "array([[ 0.03496538, -0.03372318,  0.02076808,  0.01166345, -0.0347482 ],\n",
       "       [ 0.01658491,  0.04021282,  0.02341659, -0.04406159, -0.00606818],\n",
       "       [-0.03924079,  0.04221909,  0.0167869 ,  0.01475784,  0.02134046],\n",
       "       [-0.00295632,  0.01609396, -0.03113838, -0.01578068,  0.0006519 ],\n",
       "       [-0.03164075,  0.02351934, -0.01903226,  0.0354823 , -0.04844058],\n",
       "       [-0.03164075,  0.02351934, -0.01903226,  0.0354823 , -0.04844058]],\n",
       "      dtype=float32)"
      ]
     },
     "execution_count": 13,
     "metadata": {},
     "output_type": "execute_result"
    }
   ],
   "source": [
    "result[0] # result for the first sentence"
   ]
  },
  {
   "cell_type": "markdown",
   "metadata": {},
   "source": [
    "We fed the model a sentence of 6 words, which were 6 numbers. The output is a vector of 5 numbers for every word, so (6 x 5) numbers. You can look at this output as a way of generating features. For that part, it is similar to what we have been doing with `Conv1D` and `Conv2D` layers.\n",
    "\n",
    "Another way to think about these embeddings, is as en encoding of the \"meaning\" of every word."
   ]
  },
  {
   "cell_type": "markdown",
   "metadata": {},
   "source": [
    "# Load the data\n",
    "Now, lets starts with the MNIST of NLP, the internet movie database reviews.\n",
    "## Train-test split"
   ]
  },
  {
   "cell_type": "code",
   "execution_count": 14,
   "metadata": {},
   "outputs": [
    {
     "data": {
      "text/plain": [
       "['imdbEr.txt', 'test', 'imdb.vocab', 'README', 'train']"
      ]
     },
     "execution_count": 14,
     "metadata": {},
     "output_type": "execute_result"
    }
   ],
   "source": [
    "url = \"https://ai.stanford.edu/~amaas/data/sentiment/aclImdb_v1.tar.gz\"\n",
    "\n",
    "dataset = tf.keras.utils.get_file(\"aclImdb_v1.tar.gz\", url,\n",
    "                                    untar=True, cache_dir='.',\n",
    "                                    cache_subdir='')\n",
    "\n",
    "dataset_dir = os.path.join(os.path.dirname(dataset), 'aclImdb')\n",
    "os.listdir(dataset_dir)"
   ]
  },
  {
   "cell_type": "code",
   "execution_count": 15,
   "metadata": {},
   "outputs": [
    {
     "data": {
      "text/plain": [
       "'./aclImdb'"
      ]
     },
     "execution_count": 15,
     "metadata": {},
     "output_type": "execute_result"
    }
   ],
   "source": [
    "dataset_dir"
   ]
  },
  {
   "cell_type": "markdown",
   "metadata": {},
   "source": [
    "From the README of the dataset:\n",
    "\n",
    "> There are two top-level directories `[train/, test/]` corresponding to\n",
    "the training and test sets. Each contains `[pos/, neg/]` directories for\n",
    "the reviews with binary labels positive and negative.\n",
    "\n",
    "and:\n",
    "\n",
    "> Within these directories, reviews are stored in text files named following the\n",
    "convention `[[id]_[rating].txt]` where `[id]` is a unique id and `[rating]` is\n",
    "the star rating for that review on a 1-10 scale. For example, the file\n",
    "`[test/pos/200_8.txt]` is the text for a positive-labeled test set\n",
    "example with unique id 200 and star rating 8/10 from IMDb. The\n",
    "`[train/unsup/]` directory has 0 for all ratings because the ratings are\n",
    "omitted for this portion of the dataset."
   ]
  },
  {
   "cell_type": "code",
   "execution_count": 16,
   "metadata": {},
   "outputs": [
    {
     "data": {
      "text/plain": [
       "['urls_unsup.txt',\n",
       " 'neg',\n",
       " 'urls_pos.txt',\n",
       " 'unsup',\n",
       " 'urls_neg.txt',\n",
       " 'pos',\n",
       " 'unsupBow.feat',\n",
       " 'labeledBow.feat']"
      ]
     },
     "execution_count": 16,
     "metadata": {},
     "output_type": "execute_result"
    }
   ],
   "source": [
    "train_dir = os.path.join(dataset_dir, 'train')\n",
    "os.listdir(train_dir) # these are the directories we obtained"
   ]
  },
  {
   "cell_type": "code",
   "execution_count": 17,
   "metadata": {},
   "outputs": [],
   "source": [
    "# this one should be removed, see README, it's only useful for unsupervised training.\n",
    "remove_dir = os.path.join(train_dir, 'unsup')\n",
    "shutil.rmtree(remove_dir)"
   ]
  },
  {
   "cell_type": "code",
   "execution_count": 18,
   "metadata": {},
   "outputs": [
    {
     "name": "stdout",
     "output_type": "stream",
     "text": [
      "Found 25000 files belonging to 2 classes.\n",
      "Using 20000 files for training.\n",
      "Found 25000 files belonging to 2 classes.\n",
      "Using 5000 files for validation.\n"
     ]
    }
   ],
   "source": [
    "# we make a train-validation split, using a data generator\n",
    "batch_size = 1024\n",
    "seed = 123\n",
    "train_ds = tf.keras.preprocessing.text_dataset_from_directory(\n",
    "    'aclImdb/train', batch_size=batch_size, validation_split=0.2, \n",
    "    subset='training', seed=seed)\n",
    "val_ds = tf.keras.preprocessing.text_dataset_from_directory(\n",
    "    'aclImdb/train', batch_size=batch_size, validation_split=0.2, \n",
    "    subset='validation', seed=seed)"
   ]
  },
  {
   "cell_type": "markdown",
   "metadata": {},
   "source": [
    "## Preprocessing the data"
   ]
  },
  {
   "cell_type": "markdown",
   "metadata": {},
   "source": [
    "Check how the data looks"
   ]
  },
  {
   "cell_type": "code",
   "execution_count": 19,
   "metadata": {},
   "outputs": [
    {
     "name": "stdout",
     "output_type": "stream",
     "text": [
      "label: 0 \n",
      "textdata: b'Oh My God! Please, for the love of all that is holy, Do Not Watch This Movie! It it 82 minutes of my life I will never get back. Sure, I could have stopped watching half way through. But I thought it '\n",
      "label: 1 \n",
      "textdata: b'This movie is SOOOO funny!!! The acting is WONDERFUL, the Ramones are sexy, the jokes are subtle, and the plot is just what every high schooler dreams of doing to his/her school. I absolutely loved th'\n"
     ]
    }
   ],
   "source": [
    "n = 200 # first n characters\n",
    "for text_batch, label_batch in train_ds.take(1):\n",
    "  for i in range(2):\n",
    "    print(\"label:\", label_batch[i].numpy(),\"\\ntextdata:\", text_batch[i].numpy()[:n])"
   ]
  },
  {
   "cell_type": "markdown",
   "metadata": {},
   "source": [
    "Check the shapes"
   ]
  },
  {
   "cell_type": "code",
   "execution_count": 20,
   "metadata": {},
   "outputs": [
    {
     "name": "stdout",
     "output_type": "stream",
     "text": [
      "(1024,)\n",
      "(1024,)\n"
     ]
    }
   ],
   "source": [
    "for x, y in train_ds:\n",
    "    print(x.shape)\n",
    "    print(y.shape)\n",
    "    break\n",
    "# you find the batchsize here"
   ]
  },
  {
   "cell_type": "markdown",
   "metadata": {},
   "source": [
    "Autotune the prefetching for speedup (if you want to know more about the speedup, read the [docs](https://www.tensorflow.org/guide/data_performance))"
   ]
  },
  {
   "cell_type": "code",
   "execution_count": 21,
   "metadata": {},
   "outputs": [],
   "source": [
    "AUTOTUNE = tf.data.experimental.AUTOTUNE\n",
    "\n",
    "train_ds = train_ds.cache().prefetch(buffer_size=AUTOTUNE)\n",
    "val_ds = val_ds.cache().prefetch(buffer_size=AUTOTUNE)"
   ]
  },
  {
   "cell_type": "markdown",
   "metadata": {},
   "source": [
    "Let's clean the text:\n",
    "- to lowercase\n",
    "- remove html\n",
    "- remove punctuation\n",
    "\n",
    "It is not always necessary to do this; the question is: does this information add information for the problem you want to solve? Or is it additional noise?"
   ]
  },
  {
   "cell_type": "code",
   "execution_count": 22,
   "metadata": {},
   "outputs": [
    {
     "data": {
      "text/plain": [
       "'!\"#$%&\\'()*+,-./:;<=>?@[\\\\]^_`{|}~'"
      ]
     },
     "execution_count": 22,
     "metadata": {},
     "output_type": "execute_result"
    }
   ],
   "source": [
    "# the string library has a punctuation set available\n",
    "string.punctuation"
   ]
  },
  {
   "cell_type": "code",
   "execution_count": 23,
   "metadata": {},
   "outputs": [
    {
     "data": {
      "text/plain": [
       "'[!\"#$%&\\'()*+,-./:;<=>?@[\\\\]^_`{|}~]'"
      ]
     },
     "execution_count": 23,
     "metadata": {},
     "output_type": "execute_result"
    }
   ],
   "source": [
    "# we can load that as a list, and make it a string again\n",
    "punctuation = '[%s]' % string.punctuation\n",
    "punctuation"
   ]
  },
  {
   "cell_type": "code",
   "execution_count": 24,
   "metadata": {},
   "outputs": [],
   "source": [
    "# Create a custom standardization function to strip HTML break tags '<br />'.\n",
    "def custom_standardization(input_data):\n",
    "  lowercase = tf.strings.lower(input_data) # all tekst to lowercase\n",
    "  stripped_html = tf.strings.regex_replace(lowercase, '<br />', ' ') # replace br with spaces\n",
    "  return tf.strings.regex_replace(stripped_html, punctuation, '') # remove punctuation"
   ]
  },
  {
   "cell_type": "markdown",
   "metadata": {},
   "source": [
    "With this in place, we can create a `TextVectorization` layer.\n",
    "\n",
    "\n",
    "Remeber we will need to pick a vocabulary size and number of words in a sequence."
   ]
  },
  {
   "cell_type": "code",
   "execution_count": 25,
   "metadata": {},
   "outputs": [],
   "source": [
    "vocab_size = 10000\n",
    "sequence_length = 100\n",
    "\n",
    "# Use the text vectorization layer to normalize, split, and map strings to \n",
    "# integers. Note that the layer uses the custom standardization defined above. \n",
    "# Set maximum_sequence length as all samples are not of the same length.\n",
    "vectorize_layer = TextVectorization(\n",
    "    standardize=custom_standardization,\n",
    "    max_tokens=vocab_size,\n",
    "    output_mode='int',\n",
    "    output_sequence_length=sequence_length)\n",
    "\n",
    "# Make a text-only dataset (no labels) and call adapt to build the vocabulary.\n",
    "text_ds = train_ds.map(lambda x, y: x)\n",
    "vectorize_layer.adapt(text_ds)"
   ]
  },
  {
   "cell_type": "markdown",
   "metadata": {},
   "source": [
    "## A first model\n",
    "Let's create a full model.\n",
    "\n",
    "The `TextVectorization` layer transforms strings into vocabulary indices. You have already initialized vectorize_layer as a TextVectorization layer and built it's vocabulary by calling adapt on text_ds. Now vectorize_layer can be used as the first layer of your end-to-end classification model, feeding tranformed strings into the Embedding layer.\n",
    "\n",
    "The `Embedding` layer takes the integer-encoded vocabulary and looks up the embedding vector for each word-index. These vectors are learned as the model trains. The vectors add a dimension to the output array. The resulting dimensions are: (batch, sequence, embedding).\n",
    "\n",
    "The `GlobalAveragePooling1D` layer returns a fixed-length output vector for each example by averaging over the sequence dimension. This allows the model to handle input of variable length, in the simplest way possible."
   ]
  },
  {
   "cell_type": "code",
   "execution_count": 26,
   "metadata": {},
   "outputs": [],
   "source": [
    "result = {}"
   ]
  },
  {
   "cell_type": "code",
   "execution_count": 27,
   "metadata": {},
   "outputs": [],
   "source": [
    "embedding_dim=16\n",
    "\n",
    "model = Sequential([\n",
    "    InputLayer(input_shape=[1], dtype=tf.string),\n",
    "    vectorize_layer,\n",
    "    Embedding(vocab_size, embedding_dim, name=\"embedding\"),\n",
    "    GlobalAveragePooling1D(),\n",
    "    Dense(16, activation='relu'),\n",
    "    Dense(1)\n",
    "])"
   ]
  },
  {
   "cell_type": "code",
   "execution_count": 28,
   "metadata": {},
   "outputs": [],
   "source": [
    "from tensorflow.keras.callbacks import TensorBoard\n",
    "logdir = os.path.join(\"logs\", \"base\")\n",
    "tb = TensorBoard(logdir)\n",
    "\n",
    "model.compile(optimizer='adam',\n",
    "              loss=tf.keras.losses.BinaryCrossentropy(from_logits=True),\n",
    "              metrics=['accuracy'])"
   ]
  },
  {
   "cell_type": "code",
   "execution_count": 29,
   "metadata": {},
   "outputs": [
    {
     "name": "stdout",
     "output_type": "stream",
     "text": [
      "Model: \"sequential_2\"\n",
      "_________________________________________________________________\n",
      "Layer (type)                 Output Shape              Param #   \n",
      "=================================================================\n",
      "text_vectorization_1 (TextVe (None, 100)               0         \n",
      "_________________________________________________________________\n",
      "embedding (Embedding)        (None, 100, 16)           160000    \n",
      "_________________________________________________________________\n",
      "global_average_pooling1d (Gl (None, 16)                0         \n",
      "_________________________________________________________________\n",
      "dense (Dense)                (None, 16)                272       \n",
      "_________________________________________________________________\n",
      "dense_1 (Dense)              (None, 1)                 17        \n",
      "=================================================================\n",
      "Total params: 160,289\n",
      "Trainable params: 160,289\n",
      "Non-trainable params: 0\n",
      "_________________________________________________________________\n"
     ]
    }
   ],
   "source": [
    "model.summary()"
   ]
  },
  {
   "cell_type": "markdown",
   "metadata": {},
   "source": [
    "What do we see happening, in terms of shapes?\n",
    "- the input data has the size `(batch x 1)`, because is a batch of sentences. The type is `tf.string`.\n",
    "- the `text_vectorization` layer takes in a `tf.string` with dimension (batch x 1) and removes the interpunction etc, and takes the first 100 words that will be encoded as integers. So the output is `(batch x sequencelength)`\n",
    "- We now want to add meaningful features to every word. Because the text vectorization are just arbitrary numbers assigned to words. We want to learn meaningful encodings. So the `Embedding` layer does exactly that. We end with `(batch x sequencelength x embeddingdimension)`\n",
    "- The `global_average_pooling1d` takes the average of the sequence. So, the embeddings of the 100 words are averaged, and the shape is changed to `(batch x embeddingdimension)`, where we have an average for every sentence of every embedding dimension.\n",
    "\n",
    "In the lesson on images, we also saw the `from_logits=True` option. The `losses.ipynb` also dealt with this in detail. A recap on how that works:"
   ]
  },
  {
   "cell_type": "code",
   "execution_count": 30,
   "metadata": {},
   "outputs": [
    {
     "data": {
      "text/plain": [
       "array([0.3566748, 0.5108254], dtype=float32)"
      ]
     },
     "execution_count": 30,
     "metadata": {},
     "output_type": "execute_result"
    }
   ],
   "source": [
    "# we assume 2 one-hot classes as label, and a probability as ouput\n",
    "y_true = [[1, 0], [0, 1]]\n",
    "y_pred = [[0.7, 0.3], [0.4, 0.6]]\n",
    "loss = tf.keras.losses.binary_crossentropy(y_true, y_pred)\n",
    "loss.numpy()"
   ]
  },
  {
   "cell_type": "code",
   "execution_count": 31,
   "metadata": {},
   "outputs": [
    {
     "data": {
      "text/plain": [
       "array([0.3566748, 0.5108254], dtype=float32)"
      ]
     },
     "execution_count": 31,
     "metadata": {},
     "output_type": "execute_result"
    }
   ],
   "source": [
    "# or, equivalent, the sparse representation.\n",
    "y_true = [[1], [0]]\n",
    "y_pred = [[0.7], [0.4]]\n",
    "loss = tf.keras.losses.binary_crossentropy(y_true, y_pred)\n",
    "loss.numpy()"
   ]
  },
  {
   "cell_type": "code",
   "execution_count": 32,
   "metadata": {},
   "outputs": [
    {
     "data": {
      "text/plain": [
       "array([0.00671535, 0.00671535], dtype=float32)"
      ]
     },
     "execution_count": 32,
     "metadata": {},
     "output_type": "execute_result"
    }
   ],
   "source": [
    "# we assume two classes (binary) as label, sparse (because the logits and label must have the same shape)\n",
    "# logits as ouput (ranging from [-Inf, Inf] instead of [0,1])\n",
    "y_true = [[1], [0]]\n",
    "y_pred = [[5.0], [-5.0]]\n",
    "loss = tf.keras.losses.binary_crossentropy(y_true, y_pred, from_logits=True)\n",
    "loss.numpy()"
   ]
  },
  {
   "cell_type": "markdown",
   "metadata": {},
   "source": [
    "You can play with the examples above to check your understanding of what is happening.\n",
    "\n",
    "Now, let's train the model."
   ]
  },
  {
   "cell_type": "code",
   "execution_count": 33,
   "metadata": {},
   "outputs": [
    {
     "name": "stdout",
     "output_type": "stream",
     "text": [
      "Epoch 1/10\n",
      "20/20 [==============================] - 3s 110ms/step - loss: 0.6917 - accuracy: 0.5028 - val_loss: 0.6888 - val_accuracy: 0.4886\n",
      "Epoch 2/10\n",
      "20/20 [==============================] - 2s 88ms/step - loss: 0.6861 - accuracy: 0.5028 - val_loss: 0.6816 - val_accuracy: 0.4886\n",
      "Epoch 3/10\n",
      "20/20 [==============================] - 2s 90ms/step - loss: 0.6771 - accuracy: 0.5028 - val_loss: 0.6703 - val_accuracy: 0.4886\n",
      "Epoch 4/10\n",
      "20/20 [==============================] - 2s 97ms/step - loss: 0.6634 - accuracy: 0.5030 - val_loss: 0.6547 - val_accuracy: 0.4892\n",
      "Epoch 5/10\n",
      "20/20 [==============================] - 2s 90ms/step - loss: 0.6436 - accuracy: 0.5195 - val_loss: 0.6336 - val_accuracy: 0.5328\n",
      "Epoch 6/10\n",
      "20/20 [==============================] - 2s 93ms/step - loss: 0.6181 - accuracy: 0.5932 - val_loss: 0.6080 - val_accuracy: 0.6176\n",
      "Epoch 7/10\n",
      "20/20 [==============================] - 2s 92ms/step - loss: 0.5877 - accuracy: 0.6787 - val_loss: 0.5797 - val_accuracy: 0.6774\n",
      "Epoch 8/10\n",
      "20/20 [==============================] - 1s 74ms/step - loss: 0.5543 - accuracy: 0.7369 - val_loss: 0.5503 - val_accuracy: 0.7210\n",
      "Epoch 9/10\n",
      "20/20 [==============================] - 2s 78ms/step - loss: 0.5200 - accuracy: 0.7713 - val_loss: 0.5219 - val_accuracy: 0.7468\n",
      "Epoch 10/10\n",
      "20/20 [==============================] - 2s 94ms/step - loss: 0.4866 - accuracy: 0.7937 - val_loss: 0.4958 - val_accuracy: 0.7606\n",
      "CPU times: user 18.9 s, sys: 3.16 s, total: 22.1 s\n",
      "Wall time: 18.9 s\n"
     ]
    }
   ],
   "source": [
    "%%time\n",
    "result['base'] = model.fit(\n",
    "    train_ds,\n",
    "    validation_data=val_ds, \n",
    "    callbacks=[tb],\n",
    "    epochs=10)"
   ]
  },
  {
   "cell_type": "code",
   "execution_count": 34,
   "metadata": {},
   "outputs": [
    {
     "data": {
      "image/png": "[encoded data removed]",
      "text/plain": [
       "<Figure size 1080x720 with 2 Axes>"
      ]
     },
     "metadata": {
      "needs_background": "light"
     },
     "output_type": "display_data"
    }
   ],
   "source": [
    "plot_results(result)"
   ]
  },
  {
   "cell_type": "markdown",
   "metadata": {},
   "source": [
    "An embedding of 16 might be too low. Let's see what happens if we increase that."
   ]
  },
  {
   "cell_type": "code",
   "execution_count": 35,
   "metadata": {},
   "outputs": [
    {
     "name": "stdout",
     "output_type": "stream",
     "text": [
      "Epoch 1/10\n",
      "20/20 [==============================] - 2s 93ms/step - loss: 0.6899 - accuracy: 0.5028 - val_loss: 0.6846 - val_accuracy: 0.4886\n",
      "Epoch 2/10\n",
      "20/20 [==============================] - 2s 77ms/step - loss: 0.6760 - accuracy: 0.5028 - val_loss: 0.6661 - val_accuracy: 0.4886\n",
      "Epoch 3/10\n",
      "20/20 [==============================] - 2s 82ms/step - loss: 0.6509 - accuracy: 0.5028 - val_loss: 0.6366 - val_accuracy: 0.4886\n",
      "Epoch 4/10\n",
      "20/20 [==============================] - 2s 93ms/step - loss: 0.6137 - accuracy: 0.5279 - val_loss: 0.5976 - val_accuracy: 0.5654\n",
      "Epoch 5/10\n",
      "20/20 [==============================] - 2s 85ms/step - loss: 0.5669 - accuracy: 0.6391 - val_loss: 0.5540 - val_accuracy: 0.6532\n",
      "Epoch 6/10\n",
      "20/20 [==============================] - 2s 84ms/step - loss: 0.5166 - accuracy: 0.7269 - val_loss: 0.5123 - val_accuracy: 0.7094\n",
      "Epoch 7/10\n",
      "20/20 [==============================] - 1s 72ms/step - loss: 0.4691 - accuracy: 0.7737 - val_loss: 0.4768 - val_accuracy: 0.7442\n",
      "Epoch 8/10\n",
      "20/20 [==============================] - 2s 84ms/step - loss: 0.4278 - accuracy: 0.8041 - val_loss: 0.4487 - val_accuracy: 0.7642\n",
      "Epoch 9/10\n",
      "20/20 [==============================] - 1s 74ms/step - loss: 0.3933 - accuracy: 0.8253 - val_loss: 0.4273 - val_accuracy: 0.7818\n",
      "Epoch 10/10\n",
      "20/20 [==============================] - 1s 72ms/step - loss: 0.3645 - accuracy: 0.8423 - val_loss: 0.4112 - val_accuracy: 0.7922\n"
     ]
    }
   ],
   "source": [
    "embedding_dim=50\n",
    "\n",
    "model = Sequential([\n",
    "    InputLayer(input_shape=[1], dtype=tf.string),\n",
    "    vectorize_layer,\n",
    "    Embedding(vocab_size, embedding_dim, name=\"embedding\"),\n",
    "    GlobalAveragePooling1D(),\n",
    "    Dense(16, activation='relu'),\n",
    "    Dense(1)\n",
    "])\n",
    "\n",
    "logdir = os.path.join(\"logs\", \"emb50\")\n",
    "tb = TensorBoard(logdir)\n",
    "model.compile(optimizer='adam',\n",
    "              loss=tf.keras.losses.BinaryCrossentropy(from_logits=True),\n",
    "              metrics=['accuracy'])\n",
    "result['emb50'] = model.fit(\n",
    "    train_ds,\n",
    "    validation_data=val_ds, \n",
    "    callbacks=[tb],\n",
    "    epochs=10)"
   ]
  },
  {
   "cell_type": "code",
   "execution_count": 37,
   "metadata": {},
   "outputs": [
    {
     "name": "stdout",
     "output_type": "stream",
     "text": [
      "Model: \"sequential_3\"\n",
      "_________________________________________________________________\n",
      "Layer (type)                 Output Shape              Param #   \n",
      "=================================================================\n",
      "text_vectorization_1 (TextVe (None, 100)               0         \n",
      "_________________________________________________________________\n",
      "embedding (Embedding)        (None, 100, 50)           500000    \n",
      "_________________________________________________________________\n",
      "global_average_pooling1d_1 ( (None, 50)                0         \n",
      "_________________________________________________________________\n",
      "dense_2 (Dense)              (None, 16)                816       \n",
      "_________________________________________________________________\n",
      "dense_3 (Dense)              (None, 1)                 17        \n",
      "=================================================================\n",
      "Total params: 500,833\n",
      "Trainable params: 500,833\n",
      "Non-trainable params: 0\n",
      "_________________________________________________________________\n"
     ]
    }
   ],
   "source": [
    "model.summary()"
   ]
  },
  {
   "cell_type": "code",
   "execution_count": 38,
   "metadata": {},
   "outputs": [
    {
     "data": {
      "image/png": "[encoded data removed]",
      "text/plain": [
       "<Figure size 1080x720 with 2 Axes>"
      ]
     },
     "metadata": {
      "needs_background": "light"
     },
     "output_type": "display_data"
    }
   ],
   "source": [
    "plot_results(result)"
   ]
  },
  {
   "cell_type": "markdown",
   "metadata": {},
   "source": [
    "This is an improvement. Can you explain why this is happening?\n",
    "\n",
    "And, in addition to that, we could toss in some Conv1D layers. As you can see, the embedding has a 3D output of `(batch x sequencelength x embeddings)`, and a `Conv1D` expects a 3D input, so that would work in terms of input-ouput shapes."
   ]
  },
  {
   "cell_type": "code",
   "execution_count": 42,
   "metadata": {},
   "outputs": [
    {
     "name": "stdout",
     "output_type": "stream",
     "text": [
      "Epoch 1/15\n",
      "20/20 [==============================] - 12s 556ms/step - loss: 0.6823 - accuracy: 0.5063 - val_loss: 0.6321 - val_accuracy: 0.5384\n",
      "Epoch 2/15\n",
      "20/20 [==============================] - 11s 528ms/step - loss: 0.4953 - accuracy: 0.7293 - val_loss: 0.4309 - val_accuracy: 0.8028\n",
      "Epoch 3/15\n",
      "20/20 [==============================] - 10s 506ms/step - loss: 0.3162 - accuracy: 0.8629 - val_loss: 0.4087 - val_accuracy: 0.7994\n",
      "Epoch 4/15\n",
      "20/20 [==============================] - 10s 491ms/step - loss: 0.2373 - accuracy: 0.9024 - val_loss: 0.4290 - val_accuracy: 0.8166\n",
      "Epoch 5/15\n",
      "20/20 [==============================] - 11s 532ms/step - loss: 0.1849 - accuracy: 0.9271 - val_loss: 0.4912 - val_accuracy: 0.8122\n",
      "Epoch 6/15\n",
      "20/20 [==============================] - 10s 509ms/step - loss: 0.1466 - accuracy: 0.9459 - val_loss: 0.5726 - val_accuracy: 0.8016\n",
      "Epoch 7/15\n",
      "20/20 [==============================] - 10s 505ms/step - loss: 0.1147 - accuracy: 0.9612 - val_loss: 0.6747 - val_accuracy: 0.7924\n",
      "Epoch 8/15\n",
      "20/20 [==============================] - 10s 498ms/step - loss: 0.0968 - accuracy: 0.9681 - val_loss: 0.8306 - val_accuracy: 0.7726\n",
      "Epoch 9/15\n",
      "20/20 [==============================] - 10s 506ms/step - loss: 0.1479 - accuracy: 0.9371 - val_loss: 0.7917 - val_accuracy: 0.7838\n",
      "Epoch 10/15\n",
      "20/20 [==============================] - 11s 556ms/step - loss: 0.1600 - accuracy: 0.9346 - val_loss: 0.7412 - val_accuracy: 0.8012\n",
      "Epoch 11/15\n",
      "20/20 [==============================] - 10s 504ms/step - loss: 0.0745 - accuracy: 0.9754 - val_loss: 0.7625 - val_accuracy: 0.7924\n",
      "Epoch 12/15\n",
      "20/20 [==============================] - 11s 540ms/step - loss: 0.0524 - accuracy: 0.9870 - val_loss: 0.8406 - val_accuracy: 0.7896\n",
      "Epoch 13/15\n",
      "20/20 [==============================] - 10s 479ms/step - loss: 0.0411 - accuracy: 0.9926 - val_loss: 0.9424 - val_accuracy: 0.7756\n",
      "Epoch 14/15\n",
      "20/20 [==============================] - 10s 490ms/step - loss: 0.0440 - accuracy: 0.9891 - val_loss: 1.0536 - val_accuracy: 0.7686\n",
      "Epoch 15/15\n",
      "20/20 [==============================] - 10s 478ms/step - loss: 0.0532 - accuracy: 0.9842 - val_loss: 1.2184 - val_accuracy: 0.7542\n"
     ]
    }
   ],
   "source": [
    "embedding_dim=50\n",
    "\n",
    "model = Sequential([\n",
    "    InputLayer(input_shape=[1], dtype=tf.string),\n",
    "    vectorize_layer,\n",
    "    Embedding(vocab_size, embedding_dim, name=\"embedding\"),\n",
    "    Conv1D(128, 5, activation='relu'),\n",
    "    # MaxPooling1D(5),\n",
    "    Conv1D(128, 5, activation='relu'),\n",
    "    GlobalAveragePooling1D(),\n",
    "    Dense(16, activation='relu'),\n",
    "    Dense(1)\n",
    "])\n",
    "\n",
    "logdir = os.path.join(\"logs\", \"emb50_conv\")\n",
    "tb = TensorBoard(logdir)\n",
    "\n",
    "model.compile(optimizer='adam',\n",
    "              loss=tf.keras.losses.BinaryCrossentropy(from_logits=True),\n",
    "              metrics=['accuracy'])\n",
    "result['emb50_conv'] = model.fit(\n",
    "    train_ds,\n",
    "    validation_data=val_ds, \n",
    "    callbacks=[tb],\n",
    "    epochs=15)"
   ]
  },
  {
   "cell_type": "code",
   "execution_count": 43,
   "metadata": {},
   "outputs": [
    {
     "name": "stdout",
     "output_type": "stream",
     "text": [
      "Model: \"sequential_5\"\n",
      "_________________________________________________________________\n",
      "Layer (type)                 Output Shape              Param #   \n",
      "=================================================================\n",
      "text_vectorization_1 (TextVe (None, 100)               0         \n",
      "_________________________________________________________________\n",
      "embedding (Embedding)        (None, 100, 50)           500000    \n",
      "_________________________________________________________________\n",
      "conv1d_2 (Conv1D)            (None, 96, 128)           32128     \n",
      "_________________________________________________________________\n",
      "conv1d_3 (Conv1D)            (None, 92, 128)           82048     \n",
      "_________________________________________________________________\n",
      "global_average_pooling1d_3 ( (None, 128)               0         \n",
      "_________________________________________________________________\n",
      "dense_6 (Dense)              (None, 16)                2064      \n",
      "_________________________________________________________________\n",
      "dense_7 (Dense)              (None, 1)                 17        \n",
      "=================================================================\n",
      "Total params: 616,257\n",
      "Trainable params: 616,257\n",
      "Non-trainable params: 0\n",
      "_________________________________________________________________\n"
     ]
    }
   ],
   "source": [
    "model.summary()"
   ]
  },
  {
   "cell_type": "code",
   "execution_count": 44,
   "metadata": {},
   "outputs": [
    {
     "data": {
      "image/png": "[encoded data removed]",
      "text/plain": [
       "<Figure size 1080x720 with 2 Axes>"
      ]
     },
     "metadata": {
      "needs_background": "light"
     },
     "output_type": "display_data"
    }
   ],
   "source": [
    "plot_results(result)"
   ]
  },
  {
   "cell_type": "markdown",
   "metadata": {},
   "source": [
    "While this is overfitting after some time, it trains better and faster the first few epochs."
   ]
  },
  {
   "cell_type": "markdown",
   "metadata": {},
   "source": [
    "# Pretrained wordembeddings"
   ]
  },
  {
   "cell_type": "markdown",
   "metadata": {},
   "source": [
    "[Glove](https://nlp.stanford.edu/projects/glove/) are pretrained, unsupervised word-embeddings. They are trained on corpuses of billions of words. The glove.6B is trained on 6 billion words from wikipedia.\n",
    "\n",
    "The idea of these embeddings is a general understanding of language, where words that have the same meaning should be found close to eachother in the embedding-space. This is trained with the assumption that words that are found close to eachother in the text more often, have a similar meaning.\n",
    "\n",
    "The example below is taken from the [keras documentation](https://keras.io/examples/nlp/pretrained_word_embeddings/)"
   ]
  },
  {
   "cell_type": "code",
   "execution_count": 45,
   "metadata": {},
   "outputs": [],
   "source": [
    "#!wget -N http://nlp.stanford.edu/data/glove.6B.zip\n",
    "#!unzip -o ~/shared/glove.6B.zip -d ~/shared/"
   ]
  },
  {
   "cell_type": "code",
   "execution_count": 46,
   "metadata": {},
   "outputs": [],
   "source": [
    "import os\n",
    "path_to_glove_file = os.path.join(\n",
    "    os.path.expanduser(\"~\"), \"./shared/glove.6B.50d.txt\"\n",
    ")"
   ]
  },
  {
   "cell_type": "markdown",
   "metadata": {},
   "source": [
    "We load the pretrained embeddings"
   ]
  },
  {
   "cell_type": "code",
   "execution_count": 47,
   "metadata": {},
   "outputs": [
    {
     "name": "stdout",
     "output_type": "stream",
     "text": [
      "Found 400000 word vectors.\n"
     ]
    }
   ],
   "source": [
    "embeddings_index = {}\n",
    "with open(path_to_glove_file) as f:\n",
    "    for line in f:\n",
    "        word, coefs = line.split(maxsplit=1)\n",
    "        coefs = np.fromstring(coefs, \"f\", sep=\" \")\n",
    "        embeddings_index[word] = coefs\n",
    "\n",
    "print(\"Found %s word vectors.\" % len(embeddings_index))"
   ]
  },
  {
   "cell_type": "markdown",
   "metadata": {},
   "source": [
    "Obtain the vocabulary and index."
   ]
  },
  {
   "cell_type": "code",
   "execution_count": 48,
   "metadata": {},
   "outputs": [],
   "source": [
    "voc = vectorize_layer.get_vocabulary()\n",
    "word_index = dict(zip(voc, range(len(voc))))"
   ]
  },
  {
   "cell_type": "markdown",
   "metadata": {},
   "source": [
    "And rebuild the embeddingmatrix"
   ]
  },
  {
   "cell_type": "code",
   "execution_count": 49,
   "metadata": {},
   "outputs": [
    {
     "name": "stdout",
     "output_type": "stream",
     "text": [
      "Converted 9890 words (110 misses)\n"
     ]
    }
   ],
   "source": [
    "num_tokens = len(voc) + 2\n",
    "embedding_dim = 50\n",
    "hits = 0\n",
    "misses = 0\n",
    "\n",
    "# Prepare embedding matrix\n",
    "embedding_matrix = np.zeros((num_tokens, embedding_dim))\n",
    "for word, i in word_index.items():\n",
    "    embedding_vector = embeddings_index.get(word)\n",
    "    if embedding_vector is not None:\n",
    "        # Words not found in embedding index will be all-zeros.\n",
    "        # This includes the representation for \"padding\" and \"OOV\"\n",
    "        embedding_matrix[i] = embedding_vector\n",
    "        hits += 1\n",
    "    else:\n",
    "        misses += 1\n",
    "print(\"Converted %d words (%d misses)\" % (hits, misses))"
   ]
  },
  {
   "cell_type": "code",
   "execution_count": 50,
   "metadata": {},
   "outputs": [
    {
     "data": {
      "text/plain": [
       "(10002, 50)"
      ]
     },
     "execution_count": 50,
     "metadata": {},
     "output_type": "execute_result"
    }
   ],
   "source": [
    "embedding_matrix.shape"
   ]
  },
  {
   "cell_type": "markdown",
   "metadata": {},
   "source": [
    "We can now load this matrix as the weights of our Embedding layer."
   ]
  },
  {
   "cell_type": "code",
   "execution_count": 55,
   "metadata": {},
   "outputs": [],
   "source": [
    "from tensorflow.keras.initializers import Constant\n",
    "embedding_layer = Embedding(\n",
    "    num_tokens,\n",
    "    embedding_dim,\n",
    "    embeddings_initializer=Constant(embedding_matrix),\n",
    "    trainable=True,\n",
    ")"
   ]
  },
  {
   "cell_type": "markdown",
   "metadata": {},
   "source": [
    "Let's swap our untrained embedding layer with our pretrained one."
   ]
  },
  {
   "cell_type": "code",
   "execution_count": 56,
   "metadata": {},
   "outputs": [],
   "source": [
    "model = Sequential([\n",
    "    InputLayer(input_shape=[1], dtype=tf.string),\n",
    "    vectorize_layer,\n",
    "    embedding_layer,\n",
    "    Conv1D(128, 5, activation='relu'),\n",
    "    Conv1D(128, 5, activation='relu'),\n",
    "    GlobalAveragePooling1D(),\n",
    "    Dense(16, activation='relu'),\n",
    "    Dense(1)\n",
    "])"
   ]
  },
  {
   "cell_type": "code",
   "execution_count": 57,
   "metadata": {},
   "outputs": [],
   "source": [
    "model.compile(optimizer='adam',\n",
    "              loss=tf.keras.losses.BinaryCrossentropy(from_logits=True),\n",
    "              metrics=['accuracy'])"
   ]
  },
  {
   "cell_type": "code",
   "execution_count": 58,
   "metadata": {},
   "outputs": [
    {
     "name": "stdout",
     "output_type": "stream",
     "text": [
      "Epoch 1/15\n",
      "20/20 [==============================] - 12s 560ms/step - loss: 0.6619 - accuracy: 0.5452 - val_loss: 0.6228 - val_accuracy: 0.5974\n",
      "Epoch 2/15\n",
      "20/20 [==============================] - 14s 628ms/step - loss: 0.5883 - accuracy: 0.6608 - val_loss: 0.5489 - val_accuracy: 0.6960\n",
      "Epoch 3/15\n",
      "20/20 [==============================] - 10s 515ms/step - loss: 0.5231 - accuracy: 0.7248 - val_loss: 0.5220 - val_accuracy: 0.7640\n",
      "Epoch 4/15\n",
      "20/20 [==============================] - 10s 502ms/step - loss: 0.4794 - accuracy: 0.7602 - val_loss: 0.4860 - val_accuracy: 0.7408\n",
      "Epoch 5/15\n",
      "20/20 [==============================] - 10s 507ms/step - loss: 0.4434 - accuracy: 0.7846 - val_loss: 0.4627 - val_accuracy: 0.7602\n",
      "Epoch 6/15\n",
      "20/20 [==============================] - 9s 474ms/step - loss: 0.4100 - accuracy: 0.8033 - val_loss: 0.4450 - val_accuracy: 0.7724\n",
      "Epoch 7/15\n",
      "20/20 [==============================] - 9s 458ms/step - loss: 0.3809 - accuracy: 0.8208 - val_loss: 0.4359 - val_accuracy: 0.7750\n",
      "Epoch 8/15\n",
      "20/20 [==============================] - 9s 461ms/step - loss: 0.3558 - accuracy: 0.8370 - val_loss: 0.4337 - val_accuracy: 0.7764\n",
      "Epoch 9/15\n",
      "20/20 [==============================] - 11s 533ms/step - loss: 0.3335 - accuracy: 0.8487 - val_loss: 0.4218 - val_accuracy: 0.7846\n",
      "Epoch 10/15\n",
      "20/20 [==============================] - 10s 475ms/step - loss: 0.3106 - accuracy: 0.8625 - val_loss: 0.4128 - val_accuracy: 0.7978\n",
      "Epoch 11/15\n",
      "20/20 [==============================] - 10s 487ms/step - loss: 0.2886 - accuracy: 0.8752 - val_loss: 0.4155 - val_accuracy: 0.7974\n",
      "Epoch 12/15\n",
      "20/20 [==============================] - 9s 468ms/step - loss: 0.2690 - accuracy: 0.8841 - val_loss: 0.4208 - val_accuracy: 0.7994\n",
      "Epoch 13/15\n",
      "20/20 [==============================] - 10s 484ms/step - loss: 0.2492 - accuracy: 0.8947 - val_loss: 0.4226 - val_accuracy: 0.8098\n",
      "Epoch 14/15\n",
      "20/20 [==============================] - 9s 463ms/step - loss: 0.2340 - accuracy: 0.9028 - val_loss: 0.4314 - val_accuracy: 0.8126\n",
      "Epoch 15/15\n",
      "20/20 [==============================] - 9s 454ms/step - loss: 0.2186 - accuracy: 0.9099 - val_loss: 0.4431 - val_accuracy: 0.8132\n",
      "CPU times: user 10min 59s, sys: 1min 26s, total: 12min 26s\n",
      "Wall time: 2min 31s\n"
     ]
    }
   ],
   "source": [
    "%%time\n",
    "logdir = os.path.join(\"logs\", \"pretrained\")\n",
    "tb = TensorBoard(logdir)\n",
    "result['pretrained'] = model.fit(\n",
    "    train_ds,\n",
    "    validation_data=val_ds, \n",
    "    callbacks=[tb],\n",
    "    epochs=15)"
   ]
  },
  {
   "cell_type": "code",
   "execution_count": 59,
   "metadata": {},
   "outputs": [
    {
     "data": {
      "image/png": "[encoded data removed]",
      "text/plain": [
       "<Figure size 1080x720 with 2 Axes>"
      ]
     },
     "metadata": {
      "needs_background": "light"
     },
     "output_type": "display_data"
    }
   ],
   "source": [
    "plot_results(result)"
   ]
  },
  {
   "cell_type": "markdown",
   "metadata": {},
   "source": [
    "In this case, in terms of accuracy, our own embedding can outperforms the pretrained layer. But, the pretrained layer seem to protect against overfitting if we look at the loss.\n",
    "\n",
    "What do we learn from this? A custom embedding can be perfectly fine. This depends on the complexity of the task at hand, and how much the domain on which the embeddings are pretrained help the performance in the domain to which we want to transfer the learning."
   ]
  },
  {
   "cell_type": "markdown",
   "metadata": {},
   "source": [
    "## Using pretrained sentence embeddings"
   ]
  },
  {
   "cell_type": "markdown",
   "metadata": {},
   "source": [
    "In addition to pretrained word-embeddings, we can also use pretrained sentence embeddings. From the paper [A SIMPLE BUT TOUGH-TO-BEAT BASELINE FOR SENTENCE EMBEDDINGS](https://openreview.net/pdf?id=SyK00v5xx):\n",
    "    \n",
    "> The success of neural network methods for computing word embeddings has motivated methods for generating semantic embeddings of longer pieces of text, such as sentences and paragraphs. Surprisingly, Wieting et al (ICLR’16) showed that such complicated methods are outperformed, especially in out-of-domain (transfer learning) settings, by simpler methods involving mild retraining of word embed- dings and basic linear regression. [...] The current paper goes further, showing that the following completely unsupervised sentence embedding is a formidable baseline: Use word embeddings computed using one of the popular methods on unlabeled corpus like Wikipedia, represent the sentence by a weighted average of the word vectors, and then modify them a bit using PCA/SVD\n",
    "\n",
    "So, let's try!"
   ]
  },
  {
   "cell_type": "code",
   "execution_count": 60,
   "metadata": {},
   "outputs": [
    {
     "name": "stdout",
     "output_type": "stream",
     "text": [
      "Version:  2.5.0\n",
      "Eager mode:  True\n",
      "Hub version:  0.12.0\n",
      "GPU is NOT AVAILABLE\n"
     ]
    }
   ],
   "source": [
    "import tensorflow_hub as hub\n",
    "print(\"Version: \", tf.__version__) # 2.5.0\n",
    "print(\"Eager mode: \", tf.executing_eagerly()) # True\n",
    "print(\"Hub version: \", hub.__version__) # 0.12.0\n",
    "print(\"GPU is\", \"available\" if tf.config.experimental.list_physical_devices(\"GPU\") else \"NOT AVAILABLE\")"
   ]
  },
  {
   "cell_type": "markdown",
   "metadata": {},
   "source": [
    "from [tfhub](https://tfhub.dev/) we can download pretrained models. Lets grab the [nnlm-en-dim50](https://tfhub.dev/google/nnlm-en-dim50/2), which is a Token based text embedding trained on English Google News 7B corpus. The module takes a batch of sentences in a 1-D tensor of strings as input. Word embeddings are combined into sentence embedding."
   ]
  },
  {
   "cell_type": "code",
   "execution_count": 61,
   "metadata": {},
   "outputs": [],
   "source": [
    "# this is a download of a gigabyte\n",
    "# embed = hub.load(\"https://tfhub.dev/google/universal-sentence-encoder/4\")\n",
    "\n",
    "# this one is about 500 MB\n",
    "embed = hub.load(\"https://tfhub.dev/google/nnlm-en-dim128/2\")"
   ]
  },
  {
   "cell_type": "code",
   "execution_count": 63,
   "metadata": {},
   "outputs": [
    {
     "data": {
      "text/plain": [
       "TensorShape([2, 128])"
      ]
     },
     "execution_count": 63,
     "metadata": {},
     "output_type": "execute_result"
    }
   ],
   "source": [
    "embeddings = embed([\"cat is on the mat\", \"dog is in the fog\"])\n",
    "embeddings.shape"
   ]
  },
  {
   "cell_type": "code",
   "execution_count": 127,
   "metadata": {},
   "outputs": [],
   "source": [
    "# embedding = \"https://tfhub.dev/google/nnlm-en-dim50-with-normalization/2\" \n",
    "embedding = \"https://tfhub.dev/google/nnlm-en-dim128/2\"\n",
    "hub_layer = hub.KerasLayer(embedding,\n",
    "                           input_shape=[], dtype=tf.string,\n",
    "                           trainable=True)"
   ]
  },
  {
   "cell_type": "code",
   "execution_count": 132,
   "metadata": {},
   "outputs": [
    {
     "data": {
      "text/plain": [
       "True"
      ]
     },
     "execution_count": 132,
     "metadata": {},
     "output_type": "execute_result"
    }
   ],
   "source": [
    "hub_layer.trainable"
   ]
  },
  {
   "cell_type": "code",
   "execution_count": 133,
   "metadata": {},
   "outputs": [
    {
     "name": "stdout",
     "output_type": "stream",
     "text": [
      "Model: \"sequential_22\"\n",
      "_________________________________________________________________\n",
      "Layer (type)                 Output Shape              Param #   \n",
      "=================================================================\n",
      "keras_layer_9 (KerasLayer)   (None, 128)               124642688 \n",
      "_________________________________________________________________\n",
      "dense_36 (Dense)             (None, 128)               16512     \n",
      "_________________________________________________________________\n",
      "dense_37 (Dense)             (None, 1)                 129       \n",
      "=================================================================\n",
      "Total params: 124,659,329\n",
      "Trainable params: 124,659,329\n",
      "Non-trainable params: 0\n",
      "_________________________________________________________________\n"
     ]
    }
   ],
   "source": [
    "from tensorflow.keras.layers import Reshape\n",
    "model = Sequential([\n",
    "    hub_layer,\n",
    "    Dense(128, activation='relu'),\n",
    "    Dense(1)\n",
    "])\n",
    "model.summary()"
   ]
  },
  {
   "cell_type": "code",
   "execution_count": 134,
   "metadata": {},
   "outputs": [],
   "source": [
    "model.compile(optimizer='adam',\n",
    "              loss=tf.keras.losses.BinaryCrossentropy(from_logits=True),\n",
    "              metrics=['accuracy'])"
   ]
  },
  {
   "cell_type": "code",
   "execution_count": 135,
   "metadata": {},
   "outputs": [
    {
     "name": "stdout",
     "output_type": "stream",
     "text": [
      "Epoch 1/5\n",
      "20/20 [==============================] - 38s 2s/step - loss: 0.4803 - accuracy: 0.7268 - val_loss: 0.3690 - val_accuracy: 0.8426\n",
      "Epoch 2/5\n",
      "20/20 [==============================] - 33s 2s/step - loss: 0.1929 - accuracy: 0.9504 - val_loss: 0.2780 - val_accuracy: 0.8728\n",
      "Epoch 3/5\n",
      "20/20 [==============================] - 33s 2s/step - loss: 0.0990 - accuracy: 0.9728 - val_loss: 0.2794 - val_accuracy: 0.8772\n",
      "Epoch 4/5\n",
      "20/20 [==============================] - 32s 2s/step - loss: 0.0601 - accuracy: 0.9859 - val_loss: 0.2969 - val_accuracy: 0.8758\n",
      "Epoch 5/5\n",
      "20/20 [==============================] - 32s 2s/step - loss: 0.0371 - accuracy: 0.9941 - val_loss: 0.3222 - val_accuracy: 0.8700\n"
     ]
    }
   ],
   "source": [
    "logdir = os.path.join(\"logs\", \"tfhub\")\n",
    "tb = TensorBoard(logdir)\n",
    "\n",
    "result[\"hub\"] = model.fit(train_ds,\n",
    "                    epochs=5,\n",
    "                    validation_data=val_ds,\n",
    "                    callbacks=[tb],\n",
    "                    verbose=1)"
   ]
  },
  {
   "cell_type": "code",
   "execution_count": 136,
   "metadata": {},
   "outputs": [
    {
     "data": {
      "image/png": "[encoded data removed]",
      "text/plain": [
       "<Figure size 1080x720 with 2 Axes>"
      ]
     },
     "metadata": {
      "needs_background": "light"
     },
     "output_type": "display_data"
    }
   ],
   "source": [
    "plot_results(result)"
   ]
  },
  {
   "cell_type": "markdown",
   "metadata": {},
   "source": [
    "This beats all other models. Lesson learned: a pretrained embedding can definitely improve your model a lot, if you can find the right embeddings for the task, trained with the right architecture. \n",
    "\n",
    "And what is the right architecture? NLP is evolving so fast (BERT, Transformers, GTP-3 etc) that it might pay off to spend some time on tracking the most recent developments available for your task at hand.\n",
    "\n",
    "And pretrained embeddings are not always the best way to go, e.g. if you are dealing with a very specific domain. But often, when considering language, they help a lot."
   ]
  }
 ],
 "metadata": {
  "kernelspec": {
   "display_name": "Python 3.8.3 64-bit ('tensorflow': conda)",
   "name": "python38364bittensorflowconda60937b29d62348d0bc10902efa6e00a3"
  },
  "language_info": {
   "codemirror_mode": {
    "name": "ipython",
    "version": 3
   },
   "file_extension": ".py",
   "mimetype": "text/x-python",
   "name": "python",
   "nbconvert_exporter": "python",
   "pygments_lexer": "ipython3",
   "version": "3.8.3"
  }
 },
 "nbformat": 4,
 "nbformat_minor": 4
}