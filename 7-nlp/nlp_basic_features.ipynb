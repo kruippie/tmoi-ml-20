{
 "cells": [
  {
   "cell_type": "markdown",
   "metadata": {},
   "source": [
    "# Basic feature extraction"
   ]
  },
  {
   "cell_type": "code",
   "execution_count": 64,
   "metadata": {},
   "outputs": [],
   "source": [
    "import numpy as np \n",
    "import matplotlib.pyplot as plt\n",
    "import pandas as pd\n"
   ]
  },
  {
   "cell_type": "markdown",
   "metadata": {},
   "source": [
    "We start with a dummy corpus of four sentences."
   ]
  },
  {
   "cell_type": "code",
   "execution_count": 118,
   "metadata": {},
   "outputs": [],
   "source": [
    "corpus = [\n",
    "    'please please take care of my cat.',\n",
    "    'my document is the second document.',\n",
    "    'and this document is the third one.',\n",
    "    'have you taken care of my cat?',\n",
    "]\n",
    "labels = [0, 1, 1, 0]"
   ]
  },
  {
   "cell_type": "markdown",
   "metadata": {},
   "source": [
    "With `CountVectorizer` we can make a document-term matrix. We get four vectors, where every `document` (which is just one sentence in our dummy example) gets a vector assigned to it with the length of the vocubulary found."
   ]
  },
  {
   "cell_type": "code",
   "execution_count": 119,
   "metadata": {},
   "outputs": [
    {
     "name": "stdout",
     "output_type": "stream",
     "text": [
      "['and', 'care', 'cat', 'document', 'have', 'is', 'my', 'of', 'one', 'please', 'second', 'take', 'taken', 'the', 'third', 'this', 'you']\n",
      "[[0 1 1 0 0 0 1 1 0 2 0 1 0 0 0 0 0]\n",
      " [0 0 0 2 0 1 1 0 0 0 1 0 0 1 0 0 0]\n",
      " [1 0 0 1 0 1 0 0 1 0 0 0 0 1 1 1 0]\n",
      " [0 1 1 0 1 0 1 1 0 0 0 0 1 0 0 0 1]]\n"
     ]
    }
   ],
   "source": [
    "from sklearn.feature_extraction.text import CountVectorizer\n",
    "\n",
    "vectorizer = CountVectorizer()\n",
    "X = vectorizer.fit_transform(corpus)\n",
    "print(vectorizer.get_feature_names())\n",
    "\n",
    "print(X.toarray())"
   ]
  },
  {
   "cell_type": "markdown",
   "metadata": {},
   "source": [
    "We could make that a binary count:"
   ]
  },
  {
   "cell_type": "code",
   "execution_count": 120,
   "metadata": {},
   "outputs": [
    {
     "name": "stdout",
     "output_type": "stream",
     "text": [
      "[[0 1 1 0 0 0 1 1 0 1 0 1 0 0 0 0 0]\n",
      " [0 0 0 1 0 1 1 0 0 0 1 0 0 1 0 0 0]\n",
      " [1 0 0 1 0 1 0 0 1 0 0 0 0 1 1 1 0]\n",
      " [0 1 1 0 1 0 1 1 0 0 0 0 1 0 0 0 1]]\n"
     ]
    }
   ],
   "source": [
    "vectorizer = CountVectorizer(binary=True)\n",
    "X = vectorizer.fit_transform(corpus)\n",
    "print(X.toarray())"
   ]
  },
  {
   "cell_type": "markdown",
   "metadata": {},
   "source": [
    "Or an n-gram count. In this case, we use ngrams of size 2."
   ]
  },
  {
   "cell_type": "code",
   "execution_count": 121,
   "metadata": {},
   "outputs": [
    {
     "name": "stdout",
     "output_type": "stream",
     "text": [
      "['and this', 'care of', 'document is', 'have you', 'is the', 'my cat', 'my document', 'of my', 'please please', 'please take', 'second document', 'take care', 'taken care', 'the second', 'the third', 'third one', 'this document', 'you taken']\n",
      "[[0 1 0 0 0 1 0 1 1 1 0 1 0 0 0 0 0 0]\n",
      " [0 0 1 0 1 0 1 0 0 0 1 0 0 1 0 0 0 0]\n",
      " [1 0 1 0 1 0 0 0 0 0 0 0 0 0 1 1 1 0]\n",
      " [0 1 0 1 0 1 0 1 0 0 0 0 1 0 0 0 0 1]]\n"
     ]
    }
   ],
   "source": [
    "vectorizer = CountVectorizer(analyzer='word', ngram_range=(2, 2))\n",
    "X = vectorizer.fit_transform(corpus)\n",
    "print(vectorizer.get_feature_names())\n",
    "print(X.toarray())"
   ]
  },
  {
   "cell_type": "markdown",
   "metadata": {},
   "source": [
    "And we can change the default `analyzer=\"word\"` to `analyzer=\"char\"` for a characterlevel n-gram."
   ]
  },
  {
   "cell_type": "code",
   "execution_count": 122,
   "metadata": {},
   "outputs": [
    {
     "name": "stdout",
     "output_type": "stream",
     "text": [
      "[' ca', ' do', ' is', ' my', ' of', ' on', ' pl', ' se', ' ta', ' th', ' yo', 'ake', 'and', 'are', 'ase', 'at.', 'at?', 'ave', 'car', 'cat', 'con', 'cum', 'd d', 'd o', 'd t', 'doc', 'e c', 'e o', 'e p', 'e s', 'e t', 'e y', 'eas', 'eco', 'en ', 'ent', 'f m', 'hav', 'he ', 'hir', 'his', 'ird', 'is ', 'ke ', 'ken', 'lea', 'men', 'my ', 'n c', 'nd ', 'ne.', 'nt ', 'nt.', 'ocu', 'of ', 'ond', 'one', 'ou ', 'ple', 'rd ', 're ', 's d', 's t', 'se ', 'sec', 't i', 'tak', 'the', 'thi', 'u t', 'ume', 've ', 'y c', 'y d', 'you']\n"
     ]
    }
   ],
   "source": [
    "vectorizer = CountVectorizer(analyzer='char', ngram_range=(3, 3))\n",
    "X = vectorizer.fit_transform(corpus)\n",
    "print(vectorizer.get_feature_names())"
   ]
  },
  {
   "cell_type": "code",
   "execution_count": 123,
   "metadata": {},
   "outputs": [
    {
     "data": {
      "text/plain": [
       "(4, 75)"
      ]
     },
     "execution_count": 123,
     "metadata": {},
     "output_type": "execute_result"
    }
   ],
   "source": [
    "X.shape"
   ]
  },
  {
   "cell_type": "markdown",
   "metadata": {},
   "source": [
    "With this, we can do all sorts of things. For example, we can calculate the distance between every document and every other document. In this case, we use manhattan distance."
   ]
  },
  {
   "cell_type": "code",
   "execution_count": 124,
   "metadata": {},
   "outputs": [
    {
     "data": {
      "text/plain": [
       "array([[ 0., 63., 63., 28.],\n",
       "       [63.,  0., 34., 59.],\n",
       "       [63., 34.,  0., 61.],\n",
       "       [28., 59., 61.,  0.]])"
      ]
     },
     "execution_count": 124,
     "metadata": {},
     "output_type": "execute_result"
    }
   ],
   "source": [
    "from sklearn.metrics.pairwise import manhattan_distances\n",
    "X = X.todense()\n",
    "distance = manhattan_distances(X, X)\n",
    "distance"
   ]
  },
  {
   "cell_type": "markdown",
   "metadata": {},
   "source": [
    "Note that this is a square matrix. For the first entry, you can see that the last document is closer (distance 28) to this document, and the second and third document are more distant with 63 and 63.\n",
    "\n",
    "We can reduce this to 2 dimensions, which is easier for plotting, with something like PCA. Another, often used, way to decompose is tSNE."
   ]
  },
  {
   "cell_type": "code",
   "execution_count": 125,
   "metadata": {},
   "outputs": [],
   "source": [
    "from sklearn.decomposition import PCA\n",
    "pca = PCA(n_components=2)\n",
    "model = pca.fit_transform(distance)"
   ]
  },
  {
   "cell_type": "markdown",
   "metadata": {},
   "source": [
    "Now, let's visualize this and add some labels."
   ]
  },
  {
   "cell_type": "code",
   "execution_count": 126,
   "metadata": {},
   "outputs": [],
   "source": [
    "import pandas as pd\n",
    "p = pd.DataFrame(model, columns=['x1', 'x2'])\n",
    "p['label'] = labels"
   ]
  },
  {
   "cell_type": "code",
   "execution_count": 127,
   "metadata": {},
   "outputs": [
    {
     "data": {
      "text/plain": [
       "<matplotlib.collections.PathCollection at 0x7fdf30b47310>"
      ]
     },
     "execution_count": 127,
     "metadata": {},
     "output_type": "execute_result"
    },
    {
     "data": {
      "image/png": "[encoded data removed]",
      "text/plain": [
       "<Figure size 432x288 with 1 Axes>"
      ]
     },
     "metadata": {
      "needs_background": "light"
     },
     "output_type": "display_data"
    }
   ],
   "source": [
    "import matplotlib.pyplot as plt\n",
    "plt.scatter(data=p, x='x1', y='x2', c='label')"
   ]
  },
  {
   "cell_type": "markdown",
   "metadata": {},
   "source": [
    "Note that this is essentially an unsupervised model. We only add the labels later on. This can be interpreted as: dots closer to each other are more similar."
   ]
  },
  {
   "cell_type": "markdown",
   "metadata": {},
   "source": [
    "Another approach is the tfidf."
   ]
  },
  {
   "cell_type": "code",
   "execution_count": 137,
   "metadata": {},
   "outputs": [
    {
     "name": "stdout",
     "output_type": "stream",
     "text": [
      "['and', 'care', 'cat', 'document', 'have', 'is', 'my', 'of', 'one', 'please', 'second', 'take', 'taken', 'the', 'third', 'this', 'you']\n",
      "(4, 17)\n"
     ]
    }
   ],
   "source": [
    "from sklearn.feature_extraction.text import TfidfVectorizer\n",
    "\n",
    "vectorizer = TfidfVectorizer()\n",
    "X = vectorizer.fit_transform(corpus)\n",
    "print(vectorizer.get_feature_names())\n",
    "print(X.shape)"
   ]
  },
  {
   "cell_type": "code",
   "execution_count": 138,
   "metadata": {},
   "outputs": [
    {
     "name": "stdout",
     "output_type": "stream",
     "text": [
      "[[0.29236164]\n",
      " [0.        ]\n",
      " [0.        ]\n",
      " [0.34336615]]\n",
      "[[0.        ]\n",
      " [0.69571213]\n",
      " [0.32555709]\n",
      " [0.        ]]\n",
      "[[0.23669194]\n",
      " [0.28161946]\n",
      " [0.        ]\n",
      " [0.27798449]]\n"
     ]
    }
   ],
   "source": [
    "names =vectorizer.get_feature_names()\n",
    "\n",
    "k = names.index(\"cat\")\n",
    "print(X.todense()[:,k])\n",
    "\n",
    "k = names.index(\"document\")\n",
    "print(X.todense()[:,k])\n",
    "\n",
    "k = names.index(\"my\")\n",
    "print(X.todense()[:,k])"
   ]
  },
  {
   "cell_type": "markdown",
   "metadata": {},
   "source": [
    "This is similar to the simple counting, it just weighs the counts.\n",
    "\n",
    "All methods (ngrams, wordcount, tfidf) can also be used for supervised learning. Eg with a simple linear SVC:"
   ]
  },
  {
   "cell_type": "code",
   "execution_count": 140,
   "metadata": {},
   "outputs": [
    {
     "name": "stdout",
     "output_type": "stream",
     "text": [
      "1.0\n"
     ]
    },
    {
     "data": {
      "text/plain": [
       "array([[2, 0],\n",
       "       [0, 2]])"
      ]
     },
     "execution_count": 140,
     "metadata": {},
     "output_type": "execute_result"
    }
   ],
   "source": [
    "from sklearn.svm import LinearSVC\n",
    "from sklearn.metrics import confusion_matrix\n",
    "clf = LinearSVC()\n",
    "clf.fit(X, labels)\n",
    "yhat = clf.predict(X)\n",
    "\n",
    "print(clf.score(X, labels))\n",
    "confusion_matrix(labels, yhat)"
   ]
  },
  {
   "cell_type": "markdown",
   "metadata": {},
   "source": [
    "# Lemmatizing \n",
    "We can lemmatize the text. This could make it easier to find relevant features."
   ]
  },
  {
   "cell_type": "code",
   "execution_count": 143,
   "metadata": {},
   "outputs": [],
   "source": [
    "import spacy\n",
    "nlp = spacy.load('en_core_web_sm')"
   ]
  },
  {
   "cell_type": "code",
   "execution_count": 161,
   "metadata": {},
   "outputs": [],
   "source": [
    "corpus = [\n",
    "    'please please take good care of my cat.',\n",
    "    'my document is the second document.',\n",
    "    'and this document was the third one.',\n",
    "    'were you taking better care of my cat?',\n",
    "]"
   ]
  },
  {
   "cell_type": "code",
   "execution_count": 162,
   "metadata": {},
   "outputs": [],
   "source": [
    "doc = nlp(\" \".join(corpus))"
   ]
  },
  {
   "cell_type": "code",
   "execution_count": 163,
   "metadata": {},
   "outputs": [
    {
     "data": {
      "text/plain": [
       "please please take good care of my cat. my document is the second document. and this document was the third one. were you taking better care of my cat?"
      ]
     },
     "execution_count": 163,
     "metadata": {},
     "output_type": "execute_result"
    }
   ],
   "source": [
    "doc"
   ]
  },
  {
   "cell_type": "code",
   "execution_count": 164,
   "metadata": {},
   "outputs": [],
   "source": [
    "lemma_list = []\n",
    "for token in doc:\n",
    "    lemma_list.append(token.lemma_)"
   ]
  },
  {
   "cell_type": "code",
   "execution_count": 165,
   "metadata": {},
   "outputs": [
    {
     "data": {
      "text/plain": [
       "{'.',\n",
       " '?',\n",
       " 'and',\n",
       " 'be',\n",
       " 'care',\n",
       " 'cat',\n",
       " 'document',\n",
       " 'good',\n",
       " 'my',\n",
       " 'of',\n",
       " 'one',\n",
       " 'please',\n",
       " 'second',\n",
       " 'take',\n",
       " 'the',\n",
       " 'third',\n",
       " 'this',\n",
       " 'well',\n",
       " 'you'}"
      ]
     },
     "execution_count": 165,
     "metadata": {},
     "output_type": "execute_result"
    }
   ],
   "source": [
    "set(lemma_list)"
   ]
  },
  {
   "cell_type": "markdown",
   "metadata": {},
   "source": [
    "Note how all the words \"is\", \"was\" and \"were\" have been reduced to \"be\". Also, \"better\" is reduced to \"good\".\n",
    "\n",
    "## Stopwords\n",
    "In some cases, you might want to filter out all the stopwords."
   ]
  },
  {
   "cell_type": "code",
   "execution_count": 166,
   "metadata": {},
   "outputs": [],
   "source": [
    "filtered_sentence =[] \n",
    "for word in lemma_list:\n",
    "\tlexeme = nlp.vocab[word]\n",
    "\tif lexeme.is_stop == False:\n",
    "\t\tfiltered_sentence.append(word) "
   ]
  },
  {
   "cell_type": "code",
   "execution_count": 167,
   "metadata": {},
   "outputs": [
    {
     "data": {
      "text/plain": [
       "['good',\n",
       " 'care',\n",
       " 'cat',\n",
       " '.',\n",
       " 'document',\n",
       " 'second',\n",
       " 'document',\n",
       " '.',\n",
       " 'document',\n",
       " '.',\n",
       " 'care',\n",
       " 'cat',\n",
       " '?']"
      ]
     },
     "execution_count": 167,
     "metadata": {},
     "output_type": "execute_result"
    }
   ],
   "source": [
    "filtered_sentence"
   ]
  }
 ],
 "metadata": {
  "interpreter": {
   "hash": "1ca2ed108e0829ad954ac36f354f1cc4b518ca95c97ddb3ce5ba4e3a95bf1dea"
  },
  "kernelspec": {
   "display_name": "Python 3.8.3 64-bit ('tensorflow': conda)",
   "name": "python3"
  },
  "language_info": {
   "codemirror_mode": {
    "name": "ipython",
    "version": 3
   },
   "file_extension": ".py",
   "mimetype": "text/x-python",
   "name": "python",
   "nbconvert_exporter": "python",
   "pygments_lexer": "ipython3",
   "version": "3.8.3"
  },
  "orig_nbformat": 4
 },
 "nbformat": 4,
 "nbformat_minor": 2
}