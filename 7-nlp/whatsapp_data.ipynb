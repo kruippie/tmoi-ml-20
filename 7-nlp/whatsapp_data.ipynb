{
 "cells": [
  {
   "cell_type": "code",
   "execution_count": 1,
   "metadata": {},
   "outputs": [],
   "source": [
    "import numpy as np \n",
    "import matplotlib.pyplot as plt\n",
    "import pandas as pd\n",
    "import os\n",
    "import re"
   ]
  },
  {
   "cell_type": "code",
   "execution_count": 2,
   "metadata": {},
   "outputs": [],
   "source": [
    "def timestamp(text):\n",
    "\tmatch = re.search(\"^\\d{2}-\\d{2}-\\d{4}\\s\\d{2}:\\d{2}\", text)\n",
    "\tif match is None:\n",
    "\t\tmatch = \"\"\n",
    "\telse:\n",
    "\t\tmatch = match.group(0)\n",
    "\treturn match\n",
    "\n",
    "def split_text(text, char, loc=0):\n",
    "\tidx = text.index(char)\n",
    "\tif loc==0:\n",
    "\t\treturn text[:idx]\n",
    "\tif loc==1:\n",
    "\t\treturn text[idx+1:]"
   ]
  },
  {
   "cell_type": "code",
   "execution_count": 3,
   "metadata": {},
   "outputs": [],
   "source": [
    "path = os.path.expanduser(\"WhatsApp-chat.txt\")\n",
    "\n",
    "text = []\n",
    "import csv\n",
    "with open(path, 'r') as file:\n",
    "    reader = csv.reader(file)\n",
    "    for row in reader:\n",
    "\t    text.append(row)\n",
    "\n",
    "flat = [\" \".join(entry) for entry in text]"
   ]
  },
  {
   "cell_type": "code",
   "execution_count": 5,
   "metadata": {},
   "outputs": [],
   "source": [
    "data = pd.DataFrame(flat, columns=[\"raw\"])\n",
    "data.drop(0, inplace=True)\n",
    "data[\"timestamp\"] = data.raw.apply(lambda x: timestamp(x))\n",
    "data = data[data.timestamp != \"\"]\n",
    "data[\"timestamp\"] = pd.to_datetime(data.timestamp, dayfirst=True)\n",
    "data[\"day\"] = data.timestamp.apply(lambda x: x.strftime('%d-%m-%Y'))\n",
    "data.reset_index(inplace=True, drop=True)\n",
    "data[\"text\"] = data.raw.apply(lambda x: x[18:])\n",
    "data['author'] = data.text.apply(lambda x: split_text(x, \":\", loc=0))\n",
    "data['text'] = data.text.apply(lambda x: split_text(x, \":\", loc=1))\n",
    "data['size'] = data['text'].apply(lambda x : len(str(x)))"
   ]
  },
  {
   "cell_type": "code",
   "execution_count": 7,
   "metadata": {},
   "outputs": [],
   "source": [
    "data.to_csv(\"whatsappdata_1.csv\", index=False)"
   ]
  }
 ],
 "metadata": {
  "interpreter": {
   "hash": "1ca2ed108e0829ad954ac36f354f1cc4b518ca95c97ddb3ce5ba4e3a95bf1dea"
  },
  "kernelspec": {
   "display_name": "Python 3.8.3 64-bit ('tensorflow': conda)",
   "name": "python3"
  },
  "language_info": {
   "codemirror_mode": {
    "name": "ipython",
    "version": 3
   },
   "file_extension": ".py",
   "mimetype": "text/x-python",
   "name": "python",
   "nbconvert_exporter": "python",
   "pygments_lexer": "ipython3",
   "version": "3.8.3"
  },
  "orig_nbformat": 4
 },
 "nbformat": 4,
 "nbformat_minor": 2
}